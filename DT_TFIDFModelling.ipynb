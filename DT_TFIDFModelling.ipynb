{
 "cells": [
  {
   "cell_type": "markdown",
   "metadata": {},
   "source": [
    "### TFIDF -- MODELLING USING DECISION TREES"
   ]
  },
  {
   "cell_type": "code",
   "execution_count": 1,
   "metadata": {},
   "outputs": [],
   "source": [
    "import numpy as np\n",
    "import pandas as pd\n",
    "import sklearn\n",
    "from sklearn.datasets import load_iris\n",
    "from sklearn.neighbors import KNeighborsClassifier\n",
    "from sklearn.model_selection import train_test_split\n",
    "import matplotlib.pyplot as plt\n",
    "from sklearn.model_selection import GridSearchCV\n",
    "from sklearn.model_selection import RandomizedSearchCV\n",
    "from scipy.stats import randint\n",
    "from sklearn.pipeline import Pipeline\n",
    "from sklearn.metrics import confusion_matrix\n",
    "#import seaborn as sns\n",
    "import sklearn\n",
    "from sklearn import metrics\n",
    "from sklearn.metrics import accuracy_score\n",
    "from sklearn.preprocessing import StandardScaler\n",
    "from sklearn.linear_model import LinearRegression\n",
    "from sklearn.linear_model import LogisticRegression\n",
    "from sklearn.utils import shuffle\n",
    "from sklearn.metrics import r2_score\n",
    "from sklearn.utils import shuffle\n",
    "from sklearn.tree import DecisionTreeClassifier \n",
    "from sklearn.feature_extraction.text import CountVectorizer\n",
    "from sklearn.feature_extraction.text import TfidfVectorizer\n",
    "import pickle\n",
    "import bz2\n",
    "from sklearn.linear_model import SGDClassifier\n",
    "from sklearn.metrics import roc_auc_score"
   ]
  },
  {
   "cell_type": "code",
   "execution_count": 2,
   "metadata": {},
   "outputs": [],
   "source": [
    "infile=bz2.BZ2File(\"train_tfidf_2\",\"rb\")\n",
    "train_tfidf_2=pickle.load(infile)\n",
    "infile.close()"
   ]
  },
  {
   "cell_type": "code",
   "execution_count": null,
   "metadata": {},
   "outputs": [],
   "source": []
  },
  {
   "cell_type": "code",
   "execution_count": 3,
   "metadata": {},
   "outputs": [],
   "source": [
    "infile=bz2.BZ2File(\"train_tfidf_1\",\"rb\")\n",
    "train_tfidf_1=pickle.load(infile)\n",
    "infile.close()"
   ]
  },
  {
   "cell_type": "code",
   "execution_count": 4,
   "metadata": {},
   "outputs": [],
   "source": [
    "train_tfidf=pd.concat((train_tfidf_1,train_tfidf_2),axis=0)"
   ]
  },
  {
   "cell_type": "code",
   "execution_count": 5,
   "metadata": {},
   "outputs": [],
   "source": [
    "infile=bz2.BZ2File(\"ytrain\",\"rb\")\n",
    "ytrain=pickle.load(infile)\n",
    "infile.close()"
   ]
  },
  {
   "cell_type": "code",
   "execution_count": 6,
   "metadata": {},
   "outputs": [],
   "source": [
    "infile=bz2.BZ2File(\"ytest\",\"rb\")\n",
    "ytest=pickle.load(infile)\n",
    "infile.close()"
   ]
  },
  {
   "cell_type": "code",
   "execution_count": 7,
   "metadata": {},
   "outputs": [],
   "source": [
    "infile=bz2.BZ2File(\"test_tfidf\",\"rb\")\n",
    "test_tfidf=pickle.load(infile)\n",
    "infile.close()"
   ]
  },
  {
   "cell_type": "code",
   "execution_count": 8,
   "metadata": {},
   "outputs": [
    {
     "data": {
      "text/plain": [
       "(21850, 14041)"
      ]
     },
     "execution_count": 8,
     "metadata": {},
     "output_type": "execute_result"
    }
   ],
   "source": [
    "test_tfidf.shape"
   ]
  },
  {
   "cell_type": "code",
   "execution_count": 9,
   "metadata": {},
   "outputs": [],
   "source": [
    "gcv_max_depth=10\n",
    "gcv_min_samples_split=10"
   ]
  },
  {
   "cell_type": "code",
   "execution_count": 10,
   "metadata": {},
   "outputs": [],
   "source": [
    "tree=DecisionTreeClassifier(max_depth=gcv_max_depth,min_samples_split=gcv_min_samples_split,class_weight=\"balanced\")"
   ]
  },
  {
   "cell_type": "code",
   "execution_count": 11,
   "metadata": {},
   "outputs": [
    {
     "data": {
      "text/plain": [
       "DecisionTreeClassifier(ccp_alpha=0.0, class_weight='balanced', criterion='gini',\n",
       "                       max_depth=10, max_features=None, max_leaf_nodes=None,\n",
       "                       min_impurity_decrease=0.0, min_impurity_split=None,\n",
       "                       min_samples_leaf=1, min_samples_split=10,\n",
       "                       min_weight_fraction_leaf=0.0, presort='deprecated',\n",
       "                       random_state=None, splitter='best')"
      ]
     },
     "execution_count": 11,
     "metadata": {},
     "output_type": "execute_result"
    }
   ],
   "source": [
    "tree.fit(train_tfidf,ytrain)"
   ]
  },
  {
   "cell_type": "code",
   "execution_count": 12,
   "metadata": {},
   "outputs": [],
   "source": [
    "ytest_predictproba=tree.predict_proba(test_tfidf)[:,1]\n",
    "ytest_predict=tree.predict(test_tfidf)"
   ]
  },
  {
   "cell_type": "code",
   "execution_count": 13,
   "metadata": {},
   "outputs": [],
   "source": [
    "ytrain_predictproba=tree.predict_proba(train_tfidf)[:,1]\n",
    "ytrain_predict=tree.predict(train_tfidf)\n"
   ]
  },
  {
   "cell_type": "code",
   "execution_count": 14,
   "metadata": {},
   "outputs": [],
   "source": [
    "from sklearn.metrics import roc_auc_score"
   ]
  },
  {
   "cell_type": "code",
   "execution_count": 15,
   "metadata": {},
   "outputs": [
    {
     "data": {
      "text/plain": [
       "0.733473514787962"
      ]
     },
     "execution_count": 15,
     "metadata": {},
     "output_type": "execute_result"
    }
   ],
   "source": [
    "train_auc=roc_auc_score(ytrain,ytrain_predictproba)\n",
    "train_auc"
   ]
  },
  {
   "cell_type": "code",
   "execution_count": 16,
   "metadata": {},
   "outputs": [
    {
     "data": {
      "text/plain": [
       "0.6462290926954681"
      ]
     },
     "execution_count": 16,
     "metadata": {},
     "output_type": "execute_result"
    }
   ],
   "source": [
    "test_auc=roc_auc_score(ytest,ytest_predictproba)\n",
    "test_auc"
   ]
  },
  {
   "cell_type": "markdown",
   "metadata": {},
   "source": [
    "##### CONFUSION_MATRIX"
   ]
  },
  {
   "cell_type": "code",
   "execution_count": 17,
   "metadata": {},
   "outputs": [],
   "source": [
    "from sklearn.metrics import confusion_matrix"
   ]
  },
  {
   "cell_type": "code",
   "execution_count": 18,
   "metadata": {},
   "outputs": [
    {
     "data": {
      "text/plain": [
       "array([[ 7863,  2724],\n",
       "       [23662, 35669]])"
      ]
     },
     "execution_count": 18,
     "metadata": {},
     "output_type": "execute_result"
    }
   ],
   "source": [
    "confusion_matrix(ytrain,ytrain_predict)"
   ]
  },
  {
   "cell_type": "code",
   "execution_count": 19,
   "metadata": {},
   "outputs": [
    {
     "data": {
      "text/html": [
       "<div>\n",
       "<style scoped>\n",
       "    .dataframe tbody tr th:only-of-type {\n",
       "        vertical-align: middle;\n",
       "    }\n",
       "\n",
       "    .dataframe tbody tr th {\n",
       "        vertical-align: top;\n",
       "    }\n",
       "\n",
       "    .dataframe thead th {\n",
       "        text-align: right;\n",
       "    }\n",
       "</style>\n",
       "<table border=\"1\" class=\"dataframe\">\n",
       "  <thead>\n",
       "    <tr style=\"text-align: right;\">\n",
       "      <th></th>\n",
       "      <th>pred_neg</th>\n",
       "      <th>pred_pos</th>\n",
       "    </tr>\n",
       "  </thead>\n",
       "  <tbody>\n",
       "    <tr>\n",
       "      <th>actual_neg</th>\n",
       "      <td>2112</td>\n",
       "      <td>1196</td>\n",
       "    </tr>\n",
       "    <tr>\n",
       "      <th>actual_pos</th>\n",
       "      <td>7725</td>\n",
       "      <td>10817</td>\n",
       "    </tr>\n",
       "  </tbody>\n",
       "</table>\n",
       "</div>"
      ],
      "text/plain": [
       "            pred_neg  pred_pos\n",
       "actual_neg      2112      1196\n",
       "actual_pos      7725     10817"
      ]
     },
     "execution_count": 19,
     "metadata": {},
     "output_type": "execute_result"
    }
   ],
   "source": [
    "test_confusion=pd.DataFrame(confusion_matrix(ytest,ytest_predict),index=[\"actual_neg\",\"actual_pos\"],columns=[\"pred_neg\",\"pred_pos\"])\n",
    "test_confusion"
   ]
  },
  {
   "cell_type": "code",
   "execution_count": 20,
   "metadata": {},
   "outputs": [
    {
     "data": {
      "text/html": [
       "<div>\n",
       "<style scoped>\n",
       "    .dataframe tbody tr th:only-of-type {\n",
       "        vertical-align: middle;\n",
       "    }\n",
       "\n",
       "    .dataframe tbody tr th {\n",
       "        vertical-align: top;\n",
       "    }\n",
       "\n",
       "    .dataframe thead th {\n",
       "        text-align: right;\n",
       "    }\n",
       "</style>\n",
       "<table border=\"1\" class=\"dataframe\">\n",
       "  <thead>\n",
       "    <tr style=\"text-align: right;\">\n",
       "      <th></th>\n",
       "      <th>pred_neg</th>\n",
       "      <th>pred_pos</th>\n",
       "    </tr>\n",
       "  </thead>\n",
       "  <tbody>\n",
       "    <tr>\n",
       "      <th>actual_neg</th>\n",
       "      <td>7863</td>\n",
       "      <td>2724</td>\n",
       "    </tr>\n",
       "    <tr>\n",
       "      <th>actual_pos</th>\n",
       "      <td>23662</td>\n",
       "      <td>35669</td>\n",
       "    </tr>\n",
       "  </tbody>\n",
       "</table>\n",
       "</div>"
      ],
      "text/plain": [
       "            pred_neg  pred_pos\n",
       "actual_neg      7863      2724\n",
       "actual_pos     23662     35669"
      ]
     },
     "execution_count": 20,
     "metadata": {},
     "output_type": "execute_result"
    }
   ],
   "source": [
    "train_confusion=pd.DataFrame(confusion_matrix(ytrain,ytrain_predict),index=[\"actual_neg\",\"actual_pos\"],columns=[\"pred_neg\",\"pred_pos\"])\n",
    "train_confusion"
   ]
  },
  {
   "cell_type": "markdown",
   "metadata": {},
   "source": [
    "##### ROC_CURVE"
   ]
  },
  {
   "cell_type": "code",
   "execution_count": 21,
   "metadata": {},
   "outputs": [],
   "source": [
    "from sklearn.metrics import roc_curve\n",
    "fpr_train,tpr_train,thersholds_train=roc_curve(ytrain,ytrain_predictproba)\n",
    "fpr_test,tpr_test,thersholds_test=roc_curve(ytest,ytest_predictproba)"
   ]
  },
  {
   "cell_type": "code",
   "execution_count": 22,
   "metadata": {},
   "outputs": [
    {
     "data": {
      "image/png": "[encoded data removed]",
      "text/plain": [
       "<Figure size 432x288 with 1 Axes>"
      ]
     },
     "metadata": {
      "needs_background": "light"
     },
     "output_type": "display_data"
    }
   ],
   "source": [
    "plt.plot(fpr_train,tpr_train,label=\"train--\"+str(train_auc))\n",
    "plt.plot(fpr_test,tpr_test,label=\"test--\"+str(test_auc))\n",
    "plt.plot([0.0,0.1,0.5,1.0],[0.0,0.1,0.5,1.0])\n",
    "plt.legend()\n",
    "plt.title(\"auc-roc\")\n",
    "plt.xlabel(\"fpr\")\n",
    "plt.ylabel(\"tpr\")\n",
    "plt.show()\n",
    "plt.close()"
   ]
  },
  {
   "cell_type": "code",
   "execution_count": null,
   "metadata": {},
   "outputs": [],
   "source": []
  },
  {
   "cell_type": "code",
   "execution_count": null,
   "metadata": {},
   "outputs": [],
   "source": []
  },
  {
   "cell_type": "markdown",
   "metadata": {},
   "source": [
    "### with  FALSE POSITIVES"
   ]
  },
  {
   "cell_type": "code",
   "execution_count": 23,
   "metadata": {},
   "outputs": [],
   "source": [
    "a=set(test_tfidf[ytest==1 ].index) \n",
    "b=set(test_tfidf[ytest_predict==0 ].index)"
   ]
  },
  {
   "cell_type": "code",
   "execution_count": 24,
   "metadata": {},
   "outputs": [
    {
     "data": {
      "text/plain": [
       "(18542, 9837, 21850)"
      ]
     },
     "execution_count": 24,
     "metadata": {},
     "output_type": "execute_result"
    }
   ],
   "source": [
    "len(a),len(b),len(test_tfidf)"
   ]
  },
  {
   "cell_type": "code",
   "execution_count": 25,
   "metadata": {},
   "outputs": [
    {
     "data": {
      "text/plain": [
       "7725"
      ]
     },
     "execution_count": 25,
     "metadata": {},
     "output_type": "execute_result"
    }
   ],
   "source": [
    "fp_index=set.intersection(a,b)\n",
    "len(fp_index)"
   ]
  },
  {
   "cell_type": "code",
   "execution_count": 26,
   "metadata": {},
   "outputs": [],
   "source": [
    "infile=bz2.BZ2File(\"Xtest\",\"rb\")\n",
    "fp_xtes=pickle.load(infile)\n",
    "infile.close()"
   ]
  },
  {
   "cell_type": "code",
   "execution_count": 27,
   "metadata": {},
   "outputs": [],
   "source": [
    "fp_xtest=pd.DataFrame(np.array(fp_xtes),columns=fp_xtes.columns).loc[sorted(fp_index)]"
   ]
  },
  {
   "cell_type": "code",
   "execution_count": 28,
   "metadata": {},
   "outputs": [
    {
     "data": {
      "text/plain": [
       "7725"
      ]
     },
     "execution_count": 28,
     "metadata": {},
     "output_type": "execute_result"
    }
   ],
   "source": [
    "len(fp_xtest)"
   ]
  },
  {
   "cell_type": "code",
   "execution_count": 29,
   "metadata": {},
   "outputs": [],
   "source": [
    "outfile=bz2.BZ2File(\"fp_xtest\",\"wb\")\n",
    "pickle.dump(fp_xtest,outfile)\n",
    "outfile.close()\n"
   ]
  },
  {
   "cell_type": "code",
   "execution_count": 30,
   "metadata": {},
   "outputs": [
    {
     "data": {
      "text/plain": [
       "0        my students wonderful group first second grade...\n",
       "1        my 3rd grade classroom allows students achieve...\n",
       "2        the school title one inner city school 70 stud...\n",
       "12       my students energetic motivated curious learn ...\n",
       "14       i blessed faculty sponsor high school boys soc...\n",
       "                               ...                        \n",
       "21835    our school nurturing environment work instill ...\n",
       "21841    we start day student sharing reading i amazed ...\n",
       "21842    i work students kindergarten fifth grade every...\n",
       "21848    my student beyond special kids although may st...\n",
       "21849    my students curious fifth sixth graders love h...\n",
       "Name: essay, Length: 7725, dtype: object"
      ]
     },
     "execution_count": 30,
     "metadata": {},
     "output_type": "execute_result"
    }
   ],
   "source": [
    "fp_xtest[\"essay\"]"
   ]
  },
  {
   "cell_type": "markdown",
   "metadata": {},
   "source": [
    "### TFIDF--Modelling  after removing features with zero importance"
   ]
  },
  {
   "cell_type": "code",
   "execution_count": 46,
   "metadata": {},
   "outputs": [],
   "source": [
    "features_index=np.where([tree.feature_importances_!=0])[1]"
   ]
  },
  {
   "cell_type": "code",
   "execution_count": 47,
   "metadata": {},
   "outputs": [],
   "source": [
    "features=set(train_tfidf.columns[features_index])\n"
   ]
  },
  {
   "cell_type": "code",
   "execution_count": 33,
   "metadata": {},
   "outputs": [
    {
     "data": {
      "text/plain": [
       "215"
      ]
     },
     "execution_count": 33,
     "metadata": {},
     "output_type": "execute_result"
    }
   ],
   "source": [
    "len(features)"
   ]
  },
  {
   "cell_type": "code",
   "execution_count": 34,
   "metadata": {},
   "outputs": [
    {
     "data": {
      "text/plain": [
       "(21850, 218)"
      ]
     },
     "execution_count": 34,
     "metadata": {},
     "output_type": "execute_result"
    }
   ],
   "source": [
    "test=test_tfidf[features]\n",
    "test.shape"
   ]
  },
  {
   "cell_type": "code",
   "execution_count": 35,
   "metadata": {},
   "outputs": [
    {
     "data": {
      "text/plain": [
       "(69918, 218)"
      ]
     },
     "execution_count": 35,
     "metadata": {},
     "output_type": "execute_result"
    }
   ],
   "source": [
    "train=train_tfidf[features]\n",
    "train.shape"
   ]
  },
  {
   "cell_type": "code",
   "execution_count": 36,
   "metadata": {},
   "outputs": [],
   "source": [
    "outfile=bz2.BZ2File(\"test\",\"wb\")\n",
    "pickle.dump(test,outfile)\n",
    "outfile.close()\n"
   ]
  },
  {
   "cell_type": "code",
   "execution_count": 37,
   "metadata": {},
   "outputs": [],
   "source": [
    "outfile=bz2.BZ2File(\"train\",\"wb\")\n",
    "pickle.dump(train,outfile)\n",
    "outfile.close()\n"
   ]
  },
  {
   "cell_type": "code",
   "execution_count": 38,
   "metadata": {},
   "outputs": [],
   "source": [
    "sgd=LogisticRegression(class_weight=\"balanced\",max_iter=1000)\n",
    "gcv=GridSearchCV(estimator=sgd,param_grid={'C':[0.0001,0.001,0.01,0.1,1,10,100,1000]},scoring=\"roc_auc\",n_jobs=-1,return_train_score=True)"
   ]
  },
  {
   "cell_type": "code",
   "execution_count": 39,
   "metadata": {},
   "outputs": [],
   "source": [
    "ytrain=ytrain.reshape(69918,)"
   ]
  },
  {
   "cell_type": "code",
   "execution_count": 40,
   "metadata": {},
   "outputs": [
    {
     "data": {
      "text/plain": [
       "GridSearchCV(cv=None, error_score=nan,\n",
       "             estimator=LogisticRegression(C=1.0, class_weight='balanced',\n",
       "                                          dual=False, fit_intercept=True,\n",
       "                                          intercept_scaling=1, l1_ratio=None,\n",
       "                                          max_iter=1000, multi_class='auto',\n",
       "                                          n_jobs=None, penalty='l2',\n",
       "                                          random_state=None, solver='lbfgs',\n",
       "                                          tol=0.0001, verbose=0,\n",
       "                                          warm_start=False),\n",
       "             iid='deprecated', n_jobs=-1,\n",
       "             param_grid={'C': [0.0001, 0.001, 0.01, 0.1, 1, 10, 100, 1000]},\n",
       "             pre_dispatch='2*n_jobs', refit=True, return_train_score=True,\n",
       "             scoring='roc_auc', verbose=0)"
      ]
     },
     "execution_count": 40,
     "metadata": {},
     "output_type": "execute_result"
    }
   ],
   "source": [
    "gcv.fit(train,ytrain)"
   ]
  },
  {
   "cell_type": "code",
   "execution_count": 41,
   "metadata": {},
   "outputs": [
    {
     "data": {
      "text/plain": [
       "{'mean_fit_time': array([ 1.06100898,  1.59942489,  2.6118432 ,  5.66592669, 15.24622474,\n",
       "        18.67900715, 23.10720801, 24.5346241 ]),\n",
       " 'std_fit_time': array([0.18266411, 0.13315812, 0.34780244, 1.21422408, 2.97774242,\n",
       "        4.60586238, 4.8096341 , 3.76668089]),\n",
       " 'mean_score_time': array([0.05088234, 0.05163641, 0.0470046 , 0.04083824, 0.03812289,\n",
       "        0.02558293, 0.02135029, 0.02221737]),\n",
       " 'std_score_time': array([0.00898178, 0.00483375, 0.01133191, 0.0116706 , 0.01303192,\n",
       "        0.00502321, 0.00371509, 0.00546066]),\n",
       " 'param_C': masked_array(data=[0.0001, 0.001, 0.01, 0.1, 1, 10, 100, 1000],\n",
       "              mask=[False, False, False, False, False, False, False, False],\n",
       "        fill_value='?',\n",
       "             dtype=object),\n",
       " 'params': [{'C': 0.0001},\n",
       "  {'C': 0.001},\n",
       "  {'C': 0.01},\n",
       "  {'C': 0.1},\n",
       "  {'C': 1},\n",
       "  {'C': 10},\n",
       "  {'C': 100},\n",
       "  {'C': 1000}],\n",
       " 'split0_test_score': array([0.61888201, 0.62625566, 0.66920453, 0.6964595 , 0.6997694 ,\n",
       "        0.70163418, 0.70189635, 0.70191513]),\n",
       " 'split1_test_score': array([0.6020902 , 0.60481773, 0.64428111, 0.67721438, 0.68392402,\n",
       "        0.68752311, 0.68853464, 0.68869905]),\n",
       " 'split2_test_score': array([0.61414097, 0.62156469, 0.66521451, 0.69516662, 0.69936701,\n",
       "        0.70097243, 0.70111863, 0.70114785]),\n",
       " 'split3_test_score': array([0.61680352, 0.62415143, 0.66832149, 0.69794296, 0.7014561 ,\n",
       "        0.70195275, 0.70157246, 0.70146175]),\n",
       " 'split4_test_score': array([0.61372426, 0.61837973, 0.65666746, 0.68125142, 0.68356894,\n",
       "        0.68388717, 0.6838076 , 0.68374896]),\n",
       " 'mean_test_score': array([0.61312819, 0.61903385, 0.66073782, 0.68960697, 0.69361709,\n",
       "        0.69519393, 0.69538593, 0.69539455]),\n",
       " 'std_test_score': array([0.00582808, 0.00757991, 0.00934483, 0.00861101, 0.00809053,\n",
       "        0.0078388 , 0.0076749 , 0.00765348]),\n",
       " 'rank_test_score': array([8, 7, 6, 5, 4, 3, 2, 1], dtype=int32),\n",
       " 'split0_train_score': array([0.61234752, 0.61870122, 0.66271578, 0.69484988, 0.70209754,\n",
       "        0.70457081, 0.70482427, 0.70483912]),\n",
       " 'split1_train_score': array([0.61525253, 0.62133841, 0.66499823, 0.69792129, 0.70475276,\n",
       "        0.70688292, 0.707059  , 0.70705883]),\n",
       " 'split2_train_score': array([0.61385794, 0.62000682, 0.66234675, 0.69421077, 0.70199955,\n",
       "        0.70475929, 0.70502114, 0.7050394 ]),\n",
       " 'split3_train_score': array([0.61311628, 0.61965926, 0.66272707, 0.69380119, 0.70119594,\n",
       "        0.70400761, 0.70432432, 0.70434041]),\n",
       " 'split4_train_score': array([0.61305531, 0.61937541, 0.66322354, 0.69728385, 0.70509912,\n",
       "        0.70788193, 0.70816511, 0.70817836]),\n",
       " 'mean_train_score': array([0.61352591, 0.61981623, 0.66320228, 0.6956134 , 0.70302898,\n",
       "        0.70562051, 0.70587877, 0.70589122]),\n",
       " 'std_train_score': array([0.00098684, 0.00087356, 0.00094025, 0.0016704 , 0.00158394,\n",
       "        0.0014935 , 0.0014754 , 0.00147186])}"
      ]
     },
     "execution_count": 41,
     "metadata": {},
     "output_type": "execute_result"
    }
   ],
   "source": [
    "gcv.cv_results_"
   ]
  },
  {
   "cell_type": "code",
   "execution_count": 48,
   "metadata": {},
   "outputs": [],
   "source": [
    "sgd=LogisticRegression(C=1000,max_iter=1000)"
   ]
  },
  {
   "cell_type": "code",
   "execution_count": 49,
   "metadata": {},
   "outputs": [
    {
     "data": {
      "text/plain": [
       "LogisticRegression(C=1000, class_weight=None, dual=False, fit_intercept=True,\n",
       "                   intercept_scaling=1, l1_ratio=None, max_iter=1000,\n",
       "                   multi_class='auto', n_jobs=None, penalty='l2',\n",
       "                   random_state=None, solver='lbfgs', tol=0.0001, verbose=0,\n",
       "                   warm_start=False)"
      ]
     },
     "execution_count": 49,
     "metadata": {},
     "output_type": "execute_result"
    }
   ],
   "source": [
    "sgd.fit(train,ytrain)"
   ]
  },
  {
   "cell_type": "code",
   "execution_count": 50,
   "metadata": {},
   "outputs": [],
   "source": [
    "train_pred=sgd.predict(train)"
   ]
  },
  {
   "cell_type": "code",
   "execution_count": 51,
   "metadata": {},
   "outputs": [
    {
     "data": {
      "text/plain": [
       "array([0.56453027, 0.92554306, 0.95592197, ..., 0.77270093, 0.95225162,\n",
       "       0.8756567 ])"
      ]
     },
     "execution_count": 51,
     "metadata": {},
     "output_type": "execute_result"
    }
   ],
   "source": [
    "train_prob=sgd.predict_proba(train)[:,1]\n",
    "train_prob"
   ]
  },
  {
   "cell_type": "code",
   "execution_count": 52,
   "metadata": {},
   "outputs": [
    {
     "data": {
      "text/plain": [
       "0.7042431385824872"
      ]
     },
     "execution_count": 52,
     "metadata": {},
     "output_type": "execute_result"
    }
   ],
   "source": [
    "auc_train=roc_auc_score(ytrain,train_prob)\n",
    "auc_train"
   ]
  },
  {
   "cell_type": "code",
   "execution_count": 53,
   "metadata": {},
   "outputs": [
    {
     "data": {
      "text/plain": [
       "Index(['letters', 'ball', 'make', 'treat', 'physical', 'chairs', 'makes',\n",
       "       'world', 'actively', 'opportunities',\n",
       "       ...\n",
       "       'also', 'words', 'used', 'needed', 'these', 'handicap', 'chair',\n",
       "       'hardest', 'supplies', 'replace'],\n",
       "      dtype='object', length=218)"
      ]
     },
     "execution_count": 53,
     "metadata": {},
     "output_type": "execute_result"
    }
   ],
   "source": [
    "test.columns"
   ]
  },
  {
   "cell_type": "code",
   "execution_count": 54,
   "metadata": {},
   "outputs": [
    {
     "data": {
      "text/plain": [
       "Index(['letters', 'ball', 'make', 'treat', 'physical', 'chairs', 'makes',\n",
       "       'world', 'actively', 'opportunities',\n",
       "       ...\n",
       "       'also', 'words', 'used', 'needed', 'these', 'handicap', 'chair',\n",
       "       'hardest', 'supplies', 'replace'],\n",
       "      dtype='object', length=218)"
      ]
     },
     "execution_count": 54,
     "metadata": {},
     "output_type": "execute_result"
    }
   ],
   "source": [
    "train.columns"
   ]
  },
  {
   "cell_type": "code",
   "execution_count": 55,
   "metadata": {},
   "outputs": [],
   "source": [
    "test_pred=sgd.predict(test)"
   ]
  },
  {
   "cell_type": "code",
   "execution_count": 56,
   "metadata": {},
   "outputs": [
    {
     "data": {
      "text/plain": [
       "array([0.84884261, 0.84528871, 0.89767511, ..., 0.89799255, 0.6971863 ,\n",
       "       0.66090285])"
      ]
     },
     "execution_count": 56,
     "metadata": {},
     "output_type": "execute_result"
    }
   ],
   "source": [
    "test_prob=sgd.predict_proba(test)[:,1]\n",
    "test_prob"
   ]
  },
  {
   "cell_type": "code",
   "execution_count": 57,
   "metadata": {},
   "outputs": [
    {
     "data": {
      "text/plain": [
       "0.7061303159975256"
      ]
     },
     "execution_count": 57,
     "metadata": {},
     "output_type": "execute_result"
    }
   ],
   "source": [
    "auc_test=roc_auc_score(ytest,test_prob)\n",
    "auc_test"
   ]
  },
  {
   "cell_type": "code",
   "execution_count": null,
   "metadata": {},
   "outputs": [],
   "source": []
  },
  {
   "cell_type": "code",
   "execution_count": 58,
   "metadata": {},
   "outputs": [],
   "source": [
    "from sklearn.metrics import roc_curve\n",
    "fpr_train,tpr_train,thersholds_train=roc_curve(ytrain,train_prob)\n",
    "fpr_test,tpr_test,thersholds_test=roc_curve(ytest,test_prob)"
   ]
  },
  {
   "cell_type": "code",
   "execution_count": 59,
   "metadata": {},
   "outputs": [
    {
     "data": {
      "image/png": "[encoded data removed]",
      "text/plain": [
       "<Figure size 432x288 with 1 Axes>"
      ]
     },
     "metadata": {
      "needs_background": "light"
     },
     "output_type": "display_data"
    }
   ],
   "source": [
    "plt.plot(fpr_train,tpr_train,label=\"train--\"+str(auc_train))\n",
    "plt.plot(fpr_test,tpr_test,label=\"test--\"+str(auc_test))\n",
    "plt.plot([0.0,0.1,0.5,1.0],[0.0,0.1,0.5,1.0])\n",
    "plt.legend()\n",
    "plt.title(\"auc-roc\")\n",
    "plt.xlabel(\"fpr\")\n",
    "plt.ylabel(\"tpr\")\n",
    "plt.show()\n",
    "plt.close()"
   ]
  },
  {
   "cell_type": "code",
   "execution_count": 60,
   "metadata": {},
   "outputs": [
    {
     "data": {
      "text/html": [
       "<div>\n",
       "<style scoped>\n",
       "    .dataframe tbody tr th:only-of-type {\n",
       "        vertical-align: middle;\n",
       "    }\n",
       "\n",
       "    .dataframe tbody tr th {\n",
       "        vertical-align: top;\n",
       "    }\n",
       "\n",
       "    .dataframe thead th {\n",
       "        text-align: right;\n",
       "    }\n",
       "</style>\n",
       "<table border=\"1\" class=\"dataframe\">\n",
       "  <thead>\n",
       "    <tr style=\"text-align: right;\">\n",
       "      <th></th>\n",
       "      <th>pred_neg</th>\n",
       "      <th>pred_pos</th>\n",
       "    </tr>\n",
       "  </thead>\n",
       "  <tbody>\n",
       "    <tr>\n",
       "      <th>actual_neg</th>\n",
       "      <td>214</td>\n",
       "      <td>10373</td>\n",
       "    </tr>\n",
       "    <tr>\n",
       "      <th>actual_pos</th>\n",
       "      <td>172</td>\n",
       "      <td>59159</td>\n",
       "    </tr>\n",
       "  </tbody>\n",
       "</table>\n",
       "</div>"
      ],
      "text/plain": [
       "            pred_neg  pred_pos\n",
       "actual_neg       214     10373\n",
       "actual_pos       172     59159"
      ]
     },
     "execution_count": 60,
     "metadata": {},
     "output_type": "execute_result"
    }
   ],
   "source": [
    "train_confusion=pd.DataFrame(confusion_matrix(ytrain,train_pred),index=[\"actual_neg\",\"actual_pos\"],columns=[\"pred_neg\",\"pred_pos\"])\n",
    "train_confusion"
   ]
  },
  {
   "cell_type": "code",
   "execution_count": 61,
   "metadata": {},
   "outputs": [
    {
     "data": {
      "text/html": [
       "<div>\n",
       "<style scoped>\n",
       "    .dataframe tbody tr th:only-of-type {\n",
       "        vertical-align: middle;\n",
       "    }\n",
       "\n",
       "    .dataframe tbody tr th {\n",
       "        vertical-align: top;\n",
       "    }\n",
       "\n",
       "    .dataframe thead th {\n",
       "        text-align: right;\n",
       "    }\n",
       "</style>\n",
       "<table border=\"1\" class=\"dataframe\">\n",
       "  <thead>\n",
       "    <tr style=\"text-align: right;\">\n",
       "      <th></th>\n",
       "      <th>pred_neg</th>\n",
       "      <th>pred_pos</th>\n",
       "    </tr>\n",
       "  </thead>\n",
       "  <tbody>\n",
       "    <tr>\n",
       "      <th>actual_neg</th>\n",
       "      <td>74</td>\n",
       "      <td>3234</td>\n",
       "    </tr>\n",
       "    <tr>\n",
       "      <th>actual_pos</th>\n",
       "      <td>49</td>\n",
       "      <td>18493</td>\n",
       "    </tr>\n",
       "  </tbody>\n",
       "</table>\n",
       "</div>"
      ],
      "text/plain": [
       "            pred_neg  pred_pos\n",
       "actual_neg        74      3234\n",
       "actual_pos        49     18493"
      ]
     },
     "execution_count": 61,
     "metadata": {},
     "output_type": "execute_result"
    }
   ],
   "source": [
    "test_confusion=pd.DataFrame(confusion_matrix(ytest,test_pred),index=[\"actual_neg\",\"actual_pos\"],columns=[\"pred_neg\",\"pred_pos\"])\n",
    "test_confusion"
   ]
  },
  {
   "cell_type": "code",
   "execution_count": null,
   "metadata": {},
   "outputs": [],
   "source": []
  },
  {
   "cell_type": "code",
   "execution_count": null,
   "metadata": {},
   "outputs": [],
   "source": []
  }
 ],
 "metadata": {
  "kernelspec": {
   "display_name": "Python 3.7 (Intel® oneAPI)",
   "language": "python",
   "name": "c009-intel_distribution_of_python_3_oneapi-beta05-python"
  },
  "language_info": {
   "codemirror_mode": {
    "name": "ipython",
    "version": 3
   },
   "file_extension": ".py",
   "mimetype": "text/x-python",
   "name": "python",
   "nbconvert_exporter": "python",
   "pygments_lexer": "ipython3",
   "version": "3.7.7"
  }
 },
 "nbformat": 4,
 "nbformat_minor": 4
}
