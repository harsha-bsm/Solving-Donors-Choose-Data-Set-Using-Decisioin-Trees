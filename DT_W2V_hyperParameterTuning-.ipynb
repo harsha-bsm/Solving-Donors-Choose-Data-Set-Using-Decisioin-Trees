{
 "cells": [
  {
   "cell_type": "markdown",
   "metadata": {},
   "source": [
    "#### hyperparameter tuning"
   ]
  },
  {
   "cell_type": "code",
   "execution_count": 2,
   "metadata": {},
   "outputs": [],
   "source": [
    "import numpy as np\n",
    "import pandas as pd\n",
    "import sklearn\n",
    "from sklearn.datasets import load_iris\n",
    "from sklearn.neighbors import KNeighborsClassifier\n",
    "from sklearn.model_selection import train_test_split\n",
    "import matplotlib.pyplot as plt\n",
    "from sklearn.model_selection import GridSearchCV\n",
    "from sklearn.model_selection import RandomizedSearchCV\n",
    "from scipy.stats import randint\n",
    "from sklearn.pipeline import Pipeline\n",
    "from sklearn.metrics import confusion_matrix\n",
    "#import seaborn as sns\n",
    "import sklearn\n",
    "from sklearn import metrics\n",
    "from sklearn.metrics import accuracy_score\n",
    "from sklearn.preprocessing import StandardScaler\n",
    "from sklearn.linear_model import LinearRegression\n",
    "from sklearn.linear_model import LogisticRegression\n",
    "from sklearn.utils import shuffle\n",
    "from sklearn.metrics import r2_score\n",
    "from sklearn.utils import shuffle\n",
    "from sklearn.tree import DecisionTreeClassifier \n",
    "from sklearn.feature_extraction.text import CountVectorizer\n",
    "from sklearn.feature_extraction.text import TfidfVectorizer\n",
    "import pickle\n",
    "import bz2\n",
    "from sklearn.linear_model import SGDClassifier\n",
    "from sklearn.metrics import roc_auc_score"
   ]
  },
  {
   "cell_type": "code",
   "execution_count": 3,
   "metadata": {},
   "outputs": [],
   "source": [
    "infile=bz2.BZ2File(\"dev_tfidfw2v\",\"rb\")\n",
    "dev_tfidfw2v=pickle.load(infile)\n",
    "infile.close()"
   ]
  },
  {
   "cell_type": "code",
   "execution_count": 19,
   "metadata": {},
   "outputs": [],
   "source": [
    "infile=bz2.BZ2File(\"train_tfidfw2v\",\"rb\")\n",
    "train_tfidfw2v=pickle.load(infile)\n",
    "infile.close()"
   ]
  },
  {
   "cell_type": "code",
   "execution_count": 4,
   "metadata": {},
   "outputs": [],
   "source": [
    "infile=bz2.BZ2File(\"ydev\",\"rb\")\n",
    "ydev=pickle.load(infile)\n",
    "infile.close()"
   ]
  },
  {
   "cell_type": "code",
   "execution_count": 20,
   "metadata": {},
   "outputs": [],
   "source": [
    "infile=bz2.BZ2File(\"ytrain\",\"rb\")\n",
    "ytrain=pickle.load(infile)\n",
    "infile.close()"
   ]
  },
  {
   "cell_type": "code",
   "execution_count": 5,
   "metadata": {},
   "outputs": [
    {
     "data": {
      "text/plain": [
       "(17480, 401)"
      ]
     },
     "execution_count": 5,
     "metadata": {},
     "output_type": "execute_result"
    }
   ],
   "source": [
    "dev_tfidfw2v.shape"
   ]
  },
  {
   "cell_type": "code",
   "execution_count": 13,
   "metadata": {},
   "outputs": [
    {
     "data": {
      "text/plain": [
       "(14833,)"
      ]
     },
     "execution_count": 13,
     "metadata": {},
     "output_type": "execute_result"
    }
   ],
   "source": [
    "ydev[ydev==1].shape"
   ]
  },
  {
   "cell_type": "code",
   "execution_count": 7,
   "metadata": {},
   "outputs": [],
   "source": [
    "from sklearn.tree import DecisionTreeClassifier\n",
    "from sklearn.model_selection import RandomizedSearchCV"
   ]
  },
  {
   "cell_type": "code",
   "execution_count": 8,
   "metadata": {},
   "outputs": [
    {
     "name": "stdout",
     "output_type": "stream",
     "text": [
      "parameters-max_depth=10 , min_samples_split=5 score= 0.8613842856590174\n",
      "parameters-max_depth=15 , min_samples_split=5 score= 0.9553820215907867\n",
      "parameters-max_depth=20 , min_samples_split=5 score= 0.985792203953289\n",
      "parameters-max_depth=25 , min_samples_split=5 score= 0.9948036381676966\n",
      "parameters-max_depth=30 , min_samples_split=5 score= 0.998450689557186\n",
      "parameters-max_depth=35 , min_samples_split=5 score= 0.9994493154628137\n",
      "parameters-max_depth=10 , min_samples_split=50 score= 0.8305712935331835\n",
      "parameters-max_depth=15 , min_samples_split=50 score= 0.901437362667926\n",
      "parameters-max_depth=20 , min_samples_split=50 score= 0.9333342137222441\n",
      "parameters-max_depth=25 , min_samples_split=50 score= 0.9479412792991541\n",
      "parameters-max_depth=30 , min_samples_split=50 score= 0.9546843919093091\n",
      "parameters-max_depth=35 , min_samples_split=50 score= 0.9592879939156889\n",
      "parameters-max_depth=10 , min_samples_split=100 score= 0.8103546903542732\n",
      "parameters-max_depth=15 , min_samples_split=100 score= 0.8692558539474019\n",
      "parameters-max_depth=20 , min_samples_split=100 score= 0.8922829819898154\n",
      "parameters-max_depth=25 , min_samples_split=100 score= 0.899518378025126\n",
      "parameters-max_depth=30 , min_samples_split=100 score= 0.9029086733699665\n",
      "parameters-max_depth=35 , min_samples_split=100 score= 0.9020900899680209\n",
      "parameters-max_depth=10 , min_samples_split=150 score= 0.7938887986285085\n",
      "parameters-max_depth=15 , min_samples_split=150 score= 0.841531167639437\n",
      "parameters-max_depth=20 , min_samples_split=150 score= 0.8539717760898817\n",
      "parameters-max_depth=25 , min_samples_split=150 score= 0.8577917258435311\n",
      "parameters-max_depth=30 , min_samples_split=150 score= 0.8579834332880379\n",
      "parameters-max_depth=35 , min_samples_split=150 score= 0.8582181711201483\n",
      "parameters-max_depth=10 , min_samples_split=200 score= 0.7853179196846412\n",
      "parameters-max_depth=15 , min_samples_split=200 score= 0.8224405114123998\n",
      "parameters-max_depth=20 , min_samples_split=200 score= 0.8315897727605853\n",
      "parameters-max_depth=25 , min_samples_split=200 score= 0.8331161862999039\n",
      "parameters-max_depth=30 , min_samples_split=200 score= 0.8333677211374153\n",
      "parameters-max_depth=35 , min_samples_split=200 score= 0.8333677211374153\n",
      "parameters-max_depth=10 , min_samples_split=250 score= 0.7738002678402852\n",
      "parameters-max_depth=15 , min_samples_split=250 score= 0.8060050300345483\n",
      "parameters-max_depth=20 , min_samples_split=250 score= 0.8118384682801859\n",
      "parameters-max_depth=25 , min_samples_split=250 score= 0.8121318619173582\n",
      "parameters-max_depth=30 , min_samples_split=250 score= 0.8121318619173582\n",
      "parameters-max_depth=35 , min_samples_split=250 score= 0.8121318619173582\n",
      "parameters-max_depth=10 , min_samples_split=300 score= 0.7647677577775547\n",
      "parameters-max_depth=15 , min_samples_split=300 score= 0.7935059440641637\n",
      "parameters-max_depth=20 , min_samples_split=300 score= 0.7981215675816115\n",
      "parameters-max_depth=25 , min_samples_split=300 score= 0.7983974383382442\n",
      "parameters-max_depth=30 , min_samples_split=300 score= 0.7983974383382442\n",
      "parameters-max_depth=35 , min_samples_split=300 score= 0.7983974383382442\n",
      "parameters-max_depth=10 , min_samples_split=350 score= 0.7570821026672193\n",
      "parameters-max_depth=15 , min_samples_split=350 score= 0.7809051209625073\n",
      "parameters-max_depth=20 , min_samples_split=350 score= 0.7812337259112286\n",
      "parameters-max_depth=25 , min_samples_split=350 score= 0.7812337259112286\n",
      "parameters-max_depth=30 , min_samples_split=350 score= 0.7812337259112286\n",
      "parameters-max_depth=35 , min_samples_split=350 score= 0.7812337259112286\n",
      "best_parameters are max_depth,min_sample_split= (35, 5)\n"
     ]
    }
   ],
   "source": [
    "## when data is balanced\n",
    "max_depth=[10,15,20,25,30,35]\n",
    "min_samples_split=[5,50,100,150,200,250,300,350]\n",
    "max_score=0\n",
    "scoring=[]\n",
    "best_parameters=()\n",
    "for i in min_samples_split :\n",
    "    for j in max_depth :\n",
    "        tree=DecisionTreeClassifier(class_weight=\"balanced\",max_depth=j,min_samples_split=i)\n",
    "        tree.fit(dev_tfidfw2v,ydev)\n",
    "        ydev_predictproba=tree.predict_proba(dev_tfidfw2v)[:,1]\n",
    "        score=roc_auc_score(ydev,ydev_predictproba)\n",
    "        scoring.append(score)\n",
    "        print(\"parameters-\"+\"max_depth=\"+str(j)+\" , min_samples_split=\"+str(i)+\" score= \"+str(score))\n",
    "        if (score > max_score):\n",
    "            max_score=score\n",
    "            best_parameters=(j,i)\n",
    "print(\"best_parameters are max_depth,min_sample_split= \"+str(best_parameters))\n",
    "        "
   ]
  },
  {
   "cell_type": "code",
   "execution_count": 14,
   "metadata": {},
   "outputs": [
    {
     "data": {
      "image/png": "[encoded data removed]",
      "text/plain": [
       "<Figure size 432x288 with 1 Axes>"
      ]
     },
     "metadata": {
      "needs_background": "light"
     },
     "output_type": "display_data"
    }
   ],
   "source": [
    "\n",
    "plt.plot(range(0,48),scoring)\n",
    "plt.show()"
   ]
  },
  {
   "cell_type": "code",
   "execution_count": 24,
   "metadata": {},
   "outputs": [
    {
     "name": "stdout",
     "output_type": "stream",
     "text": [
      "parameters-max_depth=40 , min_samples_split=5 score= 0.999800664499212\n",
      "parameters-max_depth=45 , min_samples_split=5 score= 0.9999360847838462\n",
      "parameters-max_depth=50 , min_samples_split=5 score= 0.9999602806218004\n",
      "parameters-max_depth=55 , min_samples_split=5 score= 0.9999683925948409\n",
      "parameters-max_depth=60 , min_samples_split=5 score= 0.9999635406925984\n",
      "parameters-max_depth=65 , min_samples_split=5 score= 0.999964355710298\n",
      "parameters-max_depth=40 , min_samples_split=50 score= 0.9606941796096784\n",
      "parameters-max_depth=45 , min_samples_split=50 score= 0.96230604266093\n",
      "parameters-max_depth=50 , min_samples_split=50 score= 0.9620932084294936\n",
      "parameters-max_depth=55 , min_samples_split=50 score= 0.9623051894392757\n",
      "parameters-max_depth=60 , min_samples_split=50 score= 0.9622931933975111\n",
      "parameters-max_depth=65 , min_samples_split=50 score= 0.9622779118156453\n",
      "parameters-max_depth=40 , min_samples_split=100 score= 0.9020900899680209\n",
      "parameters-max_depth=45 , min_samples_split=100 score= 0.9011895463486684\n",
      "parameters-max_depth=50 , min_samples_split=100 score= 0.9011895463486684\n",
      "parameters-max_depth=55 , min_samples_split=100 score= 0.9022718643843148\n",
      "parameters-max_depth=60 , min_samples_split=100 score= 0.9020249904292728\n",
      "parameters-max_depth=65 , min_samples_split=100 score= 0.9020249904292728\n",
      "parameters-max_depth=40 , min_samples_split=150 score= 0.8581918103914298\n",
      "parameters-max_depth=45 , min_samples_split=150 score= 0.8579524116768502\n",
      "parameters-max_depth=50 , min_samples_split=150 score= 0.8579524116768502\n",
      "parameters-max_depth=55 , min_samples_split=150 score= 0.8583760171261707\n",
      "parameters-max_depth=60 , min_samples_split=150 score= 0.8577863136166204\n",
      "parameters-max_depth=65 , min_samples_split=150 score= 0.8583760171261707\n",
      "parameters-max_depth=40 , min_samples_split=200 score= 0.8333677211374153\n",
      "parameters-max_depth=45 , min_samples_split=200 score= 0.8333677211374153\n",
      "parameters-max_depth=50 , min_samples_split=200 score= 0.8333677211374153\n",
      "parameters-max_depth=55 , min_samples_split=200 score= 0.8333677211374153\n",
      "parameters-max_depth=60 , min_samples_split=200 score= 0.8333677211374153\n",
      "parameters-max_depth=65 , min_samples_split=200 score= 0.8333677211374153\n",
      "parameters-max_depth=40 , min_samples_split=250 score= 0.8121318619173582\n",
      "parameters-max_depth=45 , min_samples_split=250 score= 0.8121318619173582\n",
      "parameters-max_depth=50 , min_samples_split=250 score= 0.8121318619173582\n",
      "parameters-max_depth=55 , min_samples_split=250 score= 0.8121318619173582\n",
      "parameters-max_depth=60 , min_samples_split=250 score= 0.8121318619173582\n",
      "parameters-max_depth=65 , min_samples_split=250 score= 0.8121318619173582\n",
      "parameters-max_depth=40 , min_samples_split=300 score= 0.7983974383382442\n",
      "parameters-max_depth=45 , min_samples_split=300 score= 0.7983974383382442\n",
      "parameters-max_depth=50 , min_samples_split=300 score= 0.7983974383382442\n",
      "parameters-max_depth=55 , min_samples_split=300 score= 0.7983974383382442\n",
      "parameters-max_depth=60 , min_samples_split=300 score= 0.7983974383382442\n",
      "parameters-max_depth=65 , min_samples_split=300 score= 0.7983974383382442\n",
      "parameters-max_depth=40 , min_samples_split=350 score= 0.7812337259112286\n",
      "parameters-max_depth=45 , min_samples_split=350 score= 0.7812337259112286\n",
      "parameters-max_depth=50 , min_samples_split=350 score= 0.7812337259112286\n",
      "parameters-max_depth=55 , min_samples_split=350 score= 0.7812337259112286\n",
      "parameters-max_depth=60 , min_samples_split=350 score= 0.7812337259112286\n",
      "parameters-max_depth=65 , min_samples_split=350 score= 0.7812337259112286\n",
      "best_parameters are max_depth,min_sample_split= (55, 5)\n"
     ]
    }
   ],
   "source": [
    "## when data is balanced\n",
    "max_depth=[40,45,50,55,60,65]\n",
    "min_samples_split=[5,50,100,150,200,250,300,350]\n",
    "max_score=0\n",
    "scoring=[]\n",
    "best_parameters=()\n",
    "for i in min_samples_split :\n",
    "    for j in max_depth :\n",
    "        tree=DecisionTreeClassifier(class_weight=\"balanced\",max_depth=j,min_samples_split=i)\n",
    "        tree.fit(dev_tfidfw2v,ydev)\n",
    "        ydev_predictproba=tree.predict_proba(dev_tfidfw2v)[:,1]\n",
    "        score=roc_auc_score(ydev,ydev_predictproba)\n",
    "        scoring.append(score)\n",
    "        print(\"parameters-\"+\"max_depth=\"+str(j)+\" , min_samples_split=\"+str(i)+\" score= \"+str(score))\n",
    "        if (score > max_score):\n",
    "            max_score=score\n",
    "            best_parameters=(j,i)\n",
    "print(\"best_parameters are max_depth,min_sample_split= \"+str(best_parameters))\n",
    "        "
   ]
  },
  {
   "cell_type": "code",
   "execution_count": 23,
   "metadata": {},
   "outputs": [
    {
     "data": {
      "image/png": "[encoded data removed]",
      "text/plain": [
       "<Figure size 432x288 with 1 Axes>"
      ]
     },
     "metadata": {
      "needs_background": "light"
     },
     "output_type": "display_data"
    }
   ],
   "source": [
    "\n",
    "plt.plot(range(0,16),scoring)\n",
    "plt.show()"
   ]
  },
  {
   "cell_type": "code",
   "execution_count": 21,
   "metadata": {},
   "outputs": [
    {
     "name": "stdout",
     "output_type": "stream",
     "text": [
      "parameters-max_depth=1 , min_samples_split=5 score= 0.5706168647384655\n",
      "parameters-max_depth=1 , min_samples_split=10 score= 0.5706168647384655\n",
      "parameters-max_depth=1 , min_samples_split=100 score= 0.5706168647384655\n",
      "parameters-max_depth=1 , min_samples_split=200 score= 0.5706168647384655\n",
      "parameters-max_depth=1 , min_samples_split=300 score= 0.5706168647384655\n",
      "parameters-max_depth=1 , min_samples_split=400 score= 0.5706168647384655\n",
      "parameters-max_depth=1 , min_samples_split=500 score= 0.5706168647384655\n",
      "parameters-max_depth=5 , min_samples_split=5 score= 0.6870766285499018\n",
      "parameters-max_depth=5 , min_samples_split=10 score= 0.6870766285499018\n",
      "parameters-max_depth=5 , min_samples_split=100 score= 0.6865727183878767\n",
      "parameters-max_depth=5 , min_samples_split=200 score= 0.6846575032019372\n",
      "parameters-max_depth=5 , min_samples_split=300 score= 0.6828378233719621\n",
      "parameters-max_depth=5 , min_samples_split=400 score= 0.6828378233719621\n",
      "parameters-max_depth=5 , min_samples_split=500 score= 0.6828378233719621\n",
      "parameters-max_depth=10 , min_samples_split=5 score= 0.81898789268285\n",
      "parameters-max_depth=10 , min_samples_split=10 score= 0.8157061602425146\n",
      "parameters-max_depth=10 , min_samples_split=100 score= 0.7848890293549254\n",
      "parameters-max_depth=10 , min_samples_split=200 score= 0.7614245806434672\n",
      "parameters-max_depth=10 , min_samples_split=300 score= 0.7476173785307171\n",
      "parameters-max_depth=10 , min_samples_split=400 score= 0.740954456021403\n",
      "parameters-max_depth=10 , min_samples_split=500 score= 0.7351025525310106\n",
      "parameters-max_depth=20 , min_samples_split=5 score= 0.9792730556600292\n",
      "parameters-max_depth=20 , min_samples_split=10 score= 0.9781508908996677\n",
      "parameters-max_depth=20 , min_samples_split=100 score= 0.8941050941382374\n",
      "parameters-max_depth=20 , min_samples_split=200 score= 0.8447392301205275\n",
      "parameters-max_depth=20 , min_samples_split=300 score= 0.817995022839725\n",
      "parameters-max_depth=20 , min_samples_split=400 score= 0.7980034154844856\n",
      "parameters-max_depth=20 , min_samples_split=500 score= 0.7802933100978579\n",
      "parameters-max_depth=30 , min_samples_split=5 score= 0.9977372307038256\n",
      "parameters-max_depth=30 , min_samples_split=10 score= 0.9945351153050112\n",
      "parameters-max_depth=30 , min_samples_split=100 score= 0.9196020951150615\n",
      "parameters-max_depth=30 , min_samples_split=200 score= 0.8670969357346572\n",
      "parameters-max_depth=30 , min_samples_split=300 score= 0.833670818579072\n",
      "parameters-max_depth=30 , min_samples_split=400 score= 0.8081557471316917\n",
      "parameters-max_depth=30 , min_samples_split=500 score= 0.7844966110672629\n",
      "parameters-max_depth=40 , min_samples_split=5 score= 0.9993390079110457\n",
      "parameters-max_depth=40 , min_samples_split=10 score= 0.9960853808466918\n",
      "parameters-max_depth=40 , min_samples_split=100 score= 0.9247652195068069\n",
      "parameters-max_depth=40 , min_samples_split=200 score= 0.8712661969804562\n",
      "parameters-max_depth=40 , min_samples_split=300 score= 0.8376178219512842\n",
      "parameters-max_depth=40 , min_samples_split=400 score= 0.8118106430665387\n",
      "parameters-max_depth=40 , min_samples_split=500 score= 0.7850368404555226\n",
      "parameters-max_depth=50 , min_samples_split=5 score= 0.9994767331676113\n",
      "parameters-max_depth=50 , min_samples_split=10 score= 0.996267804730215\n",
      "parameters-max_depth=50 , min_samples_split=100 score= 0.9242248755066831\n",
      "parameters-max_depth=50 , min_samples_split=200 score= 0.8714462904227448\n",
      "parameters-max_depth=50 , min_samples_split=300 score= 0.8393282766748733\n",
      "parameters-max_depth=50 , min_samples_split=400 score= 0.8141302343779508\n",
      "parameters-max_depth=50 , min_samples_split=500 score= 0.7881292086272373\n",
      "parameters-max_depth=60 , min_samples_split=5 score= 0.9994468831443668\n",
      "parameters-max_depth=60 , min_samples_split=10 score= 0.9962969925515788\n",
      "parameters-max_depth=60 , min_samples_split=100 score= 0.9243250844797681\n",
      "parameters-max_depth=60 , min_samples_split=200 score= 0.8732761961779184\n",
      "parameters-max_depth=60 , min_samples_split=300 score= 0.8396315524016521\n",
      "parameters-max_depth=60 , min_samples_split=400 score= 0.8120461577123941\n",
      "parameters-max_depth=60 , min_samples_split=500 score= 0.787217331168001\n",
      "parameters-max_depth=70 , min_samples_split=5 score= 0.9994442725407982\n",
      "parameters-max_depth=70 , min_samples_split=10 score= 0.9964377359205628\n",
      "parameters-max_depth=70 , min_samples_split=100 score= 0.9252458125218351\n",
      "parameters-max_depth=70 , min_samples_split=200 score= 0.871776550876168\n",
      "parameters-max_depth=70 , min_samples_split=300 score= 0.8397246809084726\n",
      "parameters-max_depth=70 , min_samples_split=400 score= 0.8126058329135779\n",
      "parameters-max_depth=70 , min_samples_split=500 score= 0.7853689601680729\n",
      "best_parameters are max_depth,min_sample_split= (50, 5)\n"
     ]
    }
   ],
   "source": [
    "## when data is not balanced\n",
    "max_depth=[1,5,10,20,30,40,50,60,70]\n",
    "max_depth_list=[]\n",
    "min_samples_split=[5, 10, 100, 200,300,400,500]\n",
    "min_samples_split_list=[]\n",
    "scoring=[]\n",
    "max_score=0\n",
    "best_parameters=()\n",
    "for i in max_depth :\n",
    "    for j in min_samples_split :\n",
    "        tree=DecisionTreeClassifier(max_depth=i,min_samples_split=j)\n",
    "        tree.fit(dev_tfidfw2v,ydev)\n",
    "        ydev_predictproba=tree.predict_proba(dev_tfidfw2v)[:,1]\n",
    "        score=roc_auc_score(ydev,ydev_predictproba)\n",
    "        max_depth_list.append(i)\n",
    "        min_samples_split_list.append(j)\n",
    "        scoring.append(score)\n",
    "        print(\"parameters-\"+\"max_depth=\"+str(i)+\" , min_samples_split=\"+str(j)+\" score= \"+str(score))\n",
    "        if (score > max_score):\n",
    "            max_score=score\n",
    "            best_parameters=(i,j)\n",
    "print(\"best_parameters are max_depth,min_sample_split= \"+str(best_parameters))\n",
    "        "
   ]
  },
  {
   "cell_type": "code",
   "execution_count": 19,
   "metadata": {},
   "outputs": [
    {
     "data": {
      "image/png": "[encoded data removed]",
      "text/plain": [
       "<Figure size 432x288 with 1 Axes>"
      ]
     },
     "metadata": {
      "needs_background": "light"
     },
     "output_type": "display_data"
    }
   ],
   "source": [
    "plt.plot(range(0,63),scoring)\n",
    "plt.show()"
   ]
  },
  {
   "cell_type": "code",
   "execution_count": 24,
   "metadata": {},
   "outputs": [
    {
     "data": {
      "text/plain": [
       "[1, 1, 1, 1, 5, 5, 5, 5, 10, 10, 10, 10, 50, 50, 50, 50]"
      ]
     },
     "execution_count": 24,
     "metadata": {},
     "output_type": "execute_result"
    }
   ],
   "source": [
    "max_depth_list\n"
   ]
  },
  {
   "cell_type": "code",
   "execution_count": 25,
   "metadata": {},
   "outputs": [
    {
     "data": {
      "text/plain": [
       "[5, 10, 100, 500, 5, 10, 100, 500, 5, 10, 100, 500, 5, 10, 100, 500]"
      ]
     },
     "execution_count": 25,
     "metadata": {},
     "output_type": "execute_result"
    }
   ],
   "source": [
    "min_samples_split_list\n"
   ]
  },
  {
   "cell_type": "code",
   "execution_count": 26,
   "metadata": {},
   "outputs": [
    {
     "data": {
      "text/plain": [
       "[0.5553702522258197,\n",
       " 0.5553702522258197,\n",
       " 0.5553702522258197,\n",
       " 0.5553702522258197,\n",
       " 0.65954272005688,\n",
       " 0.65954272005688,\n",
       " 0.6592212337783779,\n",
       " 0.6548630285074598,\n",
       " 0.7119021950234968,\n",
       " 0.7097432768107522,\n",
       " 0.6990850101919237,\n",
       " 0.6865789838364416,\n",
       " 0.9455576072211178,\n",
       " 0.93801534428729,\n",
       " 0.9161624147914913,\n",
       " 0.867025023157327]"
      ]
     },
     "execution_count": 26,
     "metadata": {},
     "output_type": "execute_result"
    }
   ],
   "source": [
    "scoring"
   ]
  },
  {
   "cell_type": "code",
   "execution_count": 15,
   "metadata": {},
   "outputs": [],
   "source": [
    "tree=DecisionTreeClassifier(class_weight=\"balanced\")"
   ]
  },
  {
   "cell_type": "code",
   "execution_count": null,
   "metadata": {},
   "outputs": [],
   "source": []
  },
  {
   "cell_type": "code",
   "execution_count": 26,
   "metadata": {},
   "outputs": [],
   "source": [
    "parametrs_dict={'max_depth':[30,35,40,45,50,55,60],'min_samples_split':[5,50,100,150,200,250,300,350]}"
   ]
  },
  {
   "cell_type": "code",
   "execution_count": 27,
   "metadata": {},
   "outputs": [],
   "source": [
    "\n",
    "rcv=RandomizedSearchCV(estimator=tree,param_distributions=parametrs_dict,scoring=\"roc_auc\")"
   ]
  },
  {
   "cell_type": "code",
   "execution_count": null,
   "metadata": {},
   "outputs": [],
   "source": [
    "rcv.fit(train_tfidf,ytrain)"
   ]
  },
  {
   "cell_type": "code",
   "execution_count": null,
   "metadata": {},
   "outputs": [],
   "source": [
    "rcv.cv_results_"
   ]
  },
  {
   "cell_type": "code",
   "execution_count": 25,
   "metadata": {},
   "outputs": [],
   "source": [
    "rcv_max_depth=50\n",
    "rcv_min_samples_split=350"
   ]
  },
  {
   "cell_type": "code",
   "execution_count": null,
   "metadata": {},
   "outputs": [],
   "source": []
  },
  {
   "cell_type": "code",
   "execution_count": null,
   "metadata": {},
   "outputs": [],
   "source": []
  }
 ],
 "metadata": {
  "kernelspec": {
   "display_name": "Python 3.7 (Intel® oneAPI)",
   "language": "python",
   "name": "c009-intel_distribution_of_python_3_oneapi-beta05-python"
  },
  "language_info": {
   "codemirror_mode": {
    "name": "ipython",
    "version": 3
   },
   "file_extension": ".py",
   "mimetype": "text/x-python",
   "name": "python",
   "nbconvert_exporter": "python",
   "pygments_lexer": "ipython3",
   "version": "3.7.7"
  }
 },
 "nbformat": 4,
 "nbformat_minor": 4
}
