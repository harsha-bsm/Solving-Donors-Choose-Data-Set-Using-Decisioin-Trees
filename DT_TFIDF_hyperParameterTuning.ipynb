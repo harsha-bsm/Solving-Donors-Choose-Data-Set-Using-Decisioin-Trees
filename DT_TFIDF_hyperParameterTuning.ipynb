{
 "cells": [
  {
   "cell_type": "markdown",
   "metadata": {},
   "source": [
    "#### hyperparameter tuning"
   ]
  },
  {
   "cell_type": "code",
   "execution_count": 1,
   "metadata": {},
   "outputs": [],
   "source": [
    "import numpy as np\n",
    "import pandas as pd\n",
    "import sklearn\n",
    "from sklearn.datasets import load_iris\n",
    "from sklearn.neighbors import KNeighborsClassifier\n",
    "from sklearn.model_selection import train_test_split\n",
    "import matplotlib.pyplot as plt\n",
    "from sklearn.model_selection import GridSearchCV\n",
    "from sklearn.model_selection import RandomizedSearchCV\n",
    "from scipy.stats import randint\n",
    "from sklearn.pipeline import Pipeline\n",
    "from sklearn.metrics import confusion_matrix\n",
    "#import seaborn as sns\n",
    "import sklearn\n",
    "from sklearn import metrics\n",
    "from sklearn.metrics import accuracy_score\n",
    "from sklearn.preprocessing import StandardScaler\n",
    "from sklearn.linear_model import LinearRegression\n",
    "from sklearn.linear_model import LogisticRegression\n",
    "from sklearn.utils import shuffle\n",
    "from sklearn.metrics import r2_score\n",
    "from sklearn.utils import shuffle\n",
    "from sklearn.tree import DecisionTreeClassifier \n",
    "from sklearn.feature_extraction.text import CountVectorizer\n",
    "from sklearn.feature_extraction.text import TfidfVectorizer\n",
    "import pickle\n",
    "import bz2\n",
    "from sklearn.linear_model import SGDClassifier\n",
    "from sklearn.metrics import roc_auc_score"
   ]
  },
  {
   "cell_type": "code",
   "execution_count": 2,
   "metadata": {},
   "outputs": [],
   "source": [
    "infile=bz2.BZ2File(\"dev_tfidf\",\"rb\")\n",
    "dev_tfidf=pickle.load(infile)\n",
    "infile.close()"
   ]
  },
  {
   "cell_type": "code",
   "execution_count": 3,
   "metadata": {},
   "outputs": [],
   "source": [
    "infile=bz2.BZ2File(\"ydev\",\"rb\")\n",
    "ydev=pickle.load(infile)\n",
    "infile.close()"
   ]
  },
  {
   "cell_type": "code",
   "execution_count": 4,
   "metadata": {},
   "outputs": [
    {
     "data": {
      "text/plain": [
       "(17480, 14041)"
      ]
     },
     "execution_count": 4,
     "metadata": {},
     "output_type": "execute_result"
    }
   ],
   "source": [
    "dev_tfidf.shape"
   ]
  },
  {
   "cell_type": "code",
   "execution_count": 5,
   "metadata": {},
   "outputs": [
    {
     "data": {
      "text/plain": [
       "(17480, 1)"
      ]
     },
     "execution_count": 5,
     "metadata": {},
     "output_type": "execute_result"
    }
   ],
   "source": [
    "ydev.shape"
   ]
  },
  {
   "cell_type": "code",
   "execution_count": 6,
   "metadata": {},
   "outputs": [],
   "source": [
    "from sklearn.tree import DecisionTreeClassifier\n",
    "from sklearn.model_selection import RandomizedSearchCV"
   ]
  },
  {
   "cell_type": "code",
   "execution_count": 10,
   "metadata": {},
   "outputs": [
    {
     "name": "stdout",
     "output_type": "stream",
     "text": [
      "parameters-max_depth=1 , min_samples_split=5 score= 0.5613572703692089\n",
      "parameters-max_depth=1 , min_samples_split=10 score= 0.5613572703692089\n",
      "parameters-max_depth=1 , min_samples_split=100 score= 0.5613572703692089\n",
      "parameters-max_depth=1 , min_samples_split=500 score= 0.5613572703692089\n",
      "parameters-max_depth=5 , min_samples_split=5 score= 0.6748523690947223\n",
      "parameters-max_depth=5 , min_samples_split=10 score= 0.6748523690947223\n",
      "parameters-max_depth=5 , min_samples_split=100 score= 0.6721599963283452\n",
      "parameters-max_depth=5 , min_samples_split=500 score= 0.6666914949923148\n",
      "parameters-max_depth=10 , min_samples_split=5 score= 0.8003308895452103\n",
      "parameters-max_depth=10 , min_samples_split=10 score= 0.7977573692817944\n",
      "parameters-max_depth=10 , min_samples_split=100 score= 0.7687873741329325\n",
      "parameters-max_depth=10 , min_samples_split=500 score= 0.7329337649633111\n",
      "parameters-max_depth=50 , min_samples_split=5 score= 0.9884792918392711\n",
      "parameters-max_depth=50 , min_samples_split=10 score= 0.9825154125577571\n",
      "parameters-max_depth=50 , min_samples_split=100 score= 0.9269584576054919\n",
      "parameters-max_depth=50 , min_samples_split=500 score= 0.8340041353488687\n",
      "best_parameters are max_depth,min_sample_split= (50, 5)\n"
     ]
    }
   ],
   "source": [
    "## when data is balanced\n",
    "max_depth=[1,5,10,50]\n",
    "min_samples_split=[5, 10, 100, 500]\n",
    "max_score=0\n",
    "best_parameters=()\n",
    "for i in max_depth :\n",
    "    for j in min_samples_split :\n",
    "        tree=DecisionTreeClassifier(class_weight=\"balanced\",max_depth=i,min_samples_split=j)\n",
    "        tree.fit(dev_tfidf,ydev)\n",
    "        ydev_predictproba=tree.predict_proba(dev_tfidf)[:,1]\n",
    "        score=roc_auc_score(ydev,ydev_predictproba)\n",
    "        print(\"parameters-\"+\"max_depth=\"+str(i)+\" , min_samples_split=\"+str(j)+\" score= \"+str(score))\n",
    "        if (score > max_score):\n",
    "            max_score=score\n",
    "            best_parameters=(i,j)\n",
    "print(\"best_parameters are max_depth,min_sample_split= \"+str(best_parameters))\n",
    "        "
   ]
  },
  {
   "cell_type": "code",
   "execution_count": 16,
   "metadata": {},
   "outputs": [
    {
     "name": "stdout",
     "output_type": "stream",
     "text": [
      "parameters-max_depth=1 , min_samples_split=5 score= 0.5553702522258197\n",
      "parameters-max_depth=1 , min_samples_split=10 score= 0.5553702522258197\n",
      "parameters-max_depth=1 , min_samples_split=100 score= 0.5553702522258197\n",
      "parameters-max_depth=1 , min_samples_split=500 score= 0.5553702522258197\n",
      "parameters-max_depth=5 , min_samples_split=5 score= 0.65954272005688\n",
      "parameters-max_depth=5 , min_samples_split=10 score= 0.65954272005688\n",
      "parameters-max_depth=5 , min_samples_split=100 score= 0.6592212337783779\n",
      "parameters-max_depth=5 , min_samples_split=500 score= 0.6548630285074598\n",
      "parameters-max_depth=10 , min_samples_split=5 score= 0.7119021950234968\n",
      "parameters-max_depth=10 , min_samples_split=10 score= 0.7097432768107522\n",
      "parameters-max_depth=10 , min_samples_split=100 score= 0.6990850101919237\n",
      "parameters-max_depth=10 , min_samples_split=500 score= 0.6865789838364416\n",
      "parameters-max_depth=50 , min_samples_split=5 score= 0.9455576072211178\n",
      "parameters-max_depth=50 , min_samples_split=10 score= 0.93801534428729\n",
      "parameters-max_depth=50 , min_samples_split=100 score= 0.9161624147914913\n",
      "parameters-max_depth=50 , min_samples_split=500 score= 0.867025023157327\n",
      "best_parameters are max_depth,min_sample_split= (50, 5)\n"
     ]
    }
   ],
   "source": [
    "## when data is not balanced\n",
    "max_depth=[1,5,10,50]\n",
    "max_depth_list=[]\n",
    "min_samples_split=[5, 10, 100, 500]\n",
    "min_samples_split_list=[]\n",
    "scoring=[]\n",
    "max_score=0\n",
    "best_parameters=()\n",
    "for i in max_depth :\n",
    "    for j in min_samples_split :\n",
    "        tree=DecisionTreeClassifier(max_depth=i,min_samples_split=j)\n",
    "        tree.fit(dev_tfidf,ydev)\n",
    "        ydev_predictproba=tree.predict_proba(dev_tfidf)[:,1]\n",
    "        score=roc_auc_score(ydev,ydev_predictproba)\n",
    "        max_depth_list.append(i)\n",
    "        min_samples_split_list.append(j)\n",
    "        scoring.append(score)\n",
    "        print(\"parameters-\"+\"max_depth=\"+str(i)+\" , min_samples_split=\"+str(j)+\" score= \"+str(score))\n",
    "        if (score > max_score):\n",
    "            max_score=score\n",
    "            best_parameters=(i,j)\n",
    "print(\"best_parameters are max_depth,min_sample_split= \"+str(best_parameters))\n",
    "        "
   ]
  },
  {
   "cell_type": "code",
   "execution_count": 24,
   "metadata": {},
   "outputs": [
    {
     "data": {
      "text/plain": [
       "[1, 1, 1, 1, 5, 5, 5, 5, 10, 10, 10, 10, 50, 50, 50, 50]"
      ]
     },
     "execution_count": 24,
     "metadata": {},
     "output_type": "execute_result"
    }
   ],
   "source": [
    "max_depth_list\n"
   ]
  },
  {
   "cell_type": "code",
   "execution_count": 25,
   "metadata": {},
   "outputs": [
    {
     "data": {
      "text/plain": [
       "[5, 10, 100, 500, 5, 10, 100, 500, 5, 10, 100, 500, 5, 10, 100, 500]"
      ]
     },
     "execution_count": 25,
     "metadata": {},
     "output_type": "execute_result"
    }
   ],
   "source": [
    "min_samples_split_list\n"
   ]
  },
  {
   "cell_type": "code",
   "execution_count": 26,
   "metadata": {},
   "outputs": [
    {
     "data": {
      "text/plain": [
       "[0.5553702522258197,\n",
       " 0.5553702522258197,\n",
       " 0.5553702522258197,\n",
       " 0.5553702522258197,\n",
       " 0.65954272005688,\n",
       " 0.65954272005688,\n",
       " 0.6592212337783779,\n",
       " 0.6548630285074598,\n",
       " 0.7119021950234968,\n",
       " 0.7097432768107522,\n",
       " 0.6990850101919237,\n",
       " 0.6865789838364416,\n",
       " 0.9455576072211178,\n",
       " 0.93801534428729,\n",
       " 0.9161624147914913,\n",
       " 0.867025023157327]"
      ]
     },
     "execution_count": 26,
     "metadata": {},
     "output_type": "execute_result"
    }
   ],
   "source": [
    "scoring"
   ]
  },
  {
   "cell_type": "code",
   "execution_count": 17,
   "metadata": {},
   "outputs": [],
   "source": [
    "tree=DecisionTreeClassifier(class_weight=\"balanced\")"
   ]
  },
  {
   "cell_type": "code",
   "execution_count": null,
   "metadata": {},
   "outputs": [],
   "source": []
  },
  {
   "cell_type": "code",
   "execution_count": 18,
   "metadata": {},
   "outputs": [],
   "source": [
    "parametrs_dict={'max_depth':[1, 5, 10, 50],'min_samples_split':[5, 10, 100, 500]}"
   ]
  },
  {
   "cell_type": "code",
   "execution_count": 19,
   "metadata": {},
   "outputs": [],
   "source": [
    "\n",
    "rcv=RandomizedSearchCV(estimator=tree,param_distributions=parametrs_dict,scoring=\"roc_auc\")"
   ]
  },
  {
   "cell_type": "code",
   "execution_count": 20,
   "metadata": {},
   "outputs": [
    {
     "data": {
      "text/plain": [
       "RandomizedSearchCV(cv=None, error_score=nan,\n",
       "                   estimator=DecisionTreeClassifier(ccp_alpha=0.0,\n",
       "                                                    class_weight='balanced',\n",
       "                                                    criterion='gini',\n",
       "                                                    max_depth=None,\n",
       "                                                    max_features=None,\n",
       "                                                    max_leaf_nodes=None,\n",
       "                                                    min_impurity_decrease=0.0,\n",
       "                                                    min_impurity_split=None,\n",
       "                                                    min_samples_leaf=1,\n",
       "                                                    min_samples_split=2,\n",
       "                                                    min_weight_fraction_leaf=0.0,\n",
       "                                                    presort='deprecated',\n",
       "                                                    random_state=None,\n",
       "                                                    splitter='best'),\n",
       "                   iid='deprecated', n_iter=10, n_jobs=None,\n",
       "                   param_distributions={'max_depth': [1, 5, 10, 50],\n",
       "                                        'min_samples_split': [5, 10, 100, 500]},\n",
       "                   pre_dispatch='2*n_jobs', random_state=None, refit=True,\n",
       "                   return_train_score=False, scoring='roc_auc', verbose=0)"
      ]
     },
     "execution_count": 20,
     "metadata": {},
     "output_type": "execute_result"
    }
   ],
   "source": [
    "rcv.fit(dev_tfidf,ydev)"
   ]
  },
  {
   "cell_type": "code",
   "execution_count": 21,
   "metadata": {},
   "outputs": [
    {
     "data": {
      "text/plain": [
       "{'mean_fit_time': array([20.59449773,  5.33591895,  5.31773729,  1.8822298 ,  1.88123112,\n",
       "         9.57323422, 20.42887144, 19.73263235,  5.33444953, 15.00419393]),\n",
       " 'std_fit_time': array([0.89109008, 0.06062752, 0.05696458, 0.00243831, 0.00532772,\n",
       "        0.12236425, 0.69022128, 0.75390356, 0.05931282, 0.86569036]),\n",
       " 'mean_score_time': array([0.15114436, 0.14018955, 0.14306631, 0.14010096, 0.14000921,\n",
       "        0.14569383, 0.14710784, 0.14672327, 0.14423604, 0.14432926]),\n",
       " 'std_score_time': array([0.00734891, 0.00083946, 0.00436811, 0.00052697, 0.00026962,\n",
       "        0.00582267, 0.00519269, 0.00475911, 0.00389825, 0.00432474]),\n",
       " 'param_min_samples_split': masked_array(data=[10, 10, 100, 10, 5, 5, 5, 100, 5, 500],\n",
       "              mask=[False, False, False, False, False, False, False, False,\n",
       "                    False, False],\n",
       "        fill_value='?',\n",
       "             dtype=object),\n",
       " 'param_max_depth': masked_array(data=[50, 5, 5, 1, 1, 10, 50, 50, 5, 50],\n",
       "              mask=[False, False, False, False, False, False, False, False,\n",
       "                    False, False],\n",
       "        fill_value='?',\n",
       "             dtype=object),\n",
       " 'params': [{'min_samples_split': 10, 'max_depth': 50},\n",
       "  {'min_samples_split': 10, 'max_depth': 5},\n",
       "  {'min_samples_split': 100, 'max_depth': 5},\n",
       "  {'min_samples_split': 10, 'max_depth': 1},\n",
       "  {'min_samples_split': 5, 'max_depth': 1},\n",
       "  {'min_samples_split': 5, 'max_depth': 10},\n",
       "  {'min_samples_split': 5, 'max_depth': 50},\n",
       "  {'min_samples_split': 100, 'max_depth': 50},\n",
       "  {'min_samples_split': 5, 'max_depth': 5},\n",
       "  {'min_samples_split': 500, 'max_depth': 50}],\n",
       " 'split0_test_score': array([0.56198843, 0.63651585, 0.63838391, 0.56364209, 0.56364209,\n",
       "        0.6017277 , 0.56528142, 0.56717879, 0.63651585, 0.61531509]),\n",
       " 'split1_test_score': array([0.56245895, 0.63952915, 0.63971838, 0.55693058, 0.55693058,\n",
       "        0.62006329, 0.555383  , 0.57226084, 0.63952915, 0.60307841]),\n",
       " 'split2_test_score': array([0.55070393, 0.63576404, 0.63145865, 0.54428423, 0.54428423,\n",
       "        0.59346319, 0.54179433, 0.55116171, 0.63576404, 0.58326245]),\n",
       " 'split3_test_score': array([0.55563875, 0.62233839, 0.62404643, 0.54704004, 0.54704004,\n",
       "        0.61111115, 0.55647368, 0.5886732 , 0.62267395, 0.62950578]),\n",
       " 'split4_test_score': array([0.56265442, 0.60161834, 0.60119531, 0.55024428, 0.55024428,\n",
       "        0.60486393, 0.56070306, 0.59466087, 0.60128469, 0.60480032]),\n",
       " 'mean_test_score': array([0.55868889, 0.62715315, 0.62696053, 0.55242824, 0.55242824,\n",
       "        0.60624585, 0.5559271 , 0.57478708, 0.62715354, 0.60719241]),\n",
       " 'std_test_score': array([0.0047726 , 0.01407254, 0.01404157, 0.00701639, 0.00701639,\n",
       "        0.00894777, 0.00788217, 0.01555775, 0.0141719 , 0.01522599]),\n",
       " 'rank_test_score': array([7, 2, 3, 9, 9, 5, 8, 6, 1, 4], dtype=int32)}"
      ]
     },
     "execution_count": 21,
     "metadata": {},
     "output_type": "execute_result"
    }
   ],
   "source": [
    "rcv.cv_results_"
   ]
  },
  {
   "cell_type": "code",
   "execution_count": 22,
   "metadata": {},
   "outputs": [],
   "source": [
    "rcv_max_depth=5\n",
    "rcv_min_samples_split=5"
   ]
  },
  {
   "cell_type": "code",
   "execution_count": null,
   "metadata": {},
   "outputs": [],
   "source": []
  },
  {
   "cell_type": "code",
   "execution_count": null,
   "metadata": {},
   "outputs": [],
   "source": []
  }
 ],
 "metadata": {
  "kernelspec": {
   "display_name": "Python 3.7 (Intel® oneAPI)",
   "language": "python",
   "name": "c009-intel_distribution_of_python_3_oneapi-beta05-python"
  },
  "language_info": {
   "codemirror_mode": {
    "name": "ipython",
    "version": 3
   },
   "file_extension": ".py",
   "mimetype": "text/x-python",
   "name": "python",
   "nbconvert_exporter": "python",
   "pygments_lexer": "ipython3",
   "version": "3.7.7"
  }
 },
 "nbformat": 4,
 "nbformat_minor": 4
}
