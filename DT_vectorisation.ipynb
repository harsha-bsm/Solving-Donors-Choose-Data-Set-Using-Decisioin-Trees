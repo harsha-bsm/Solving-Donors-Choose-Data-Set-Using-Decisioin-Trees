{
 "cells": [
  {
   "cell_type": "markdown",
   "metadata": {},
   "source": [
    "### 1.1 Loading Data"
   ]
  },
  {
   "cell_type": "code",
   "execution_count": 124,
   "metadata": {},
   "outputs": [],
   "source": [
    "import numpy as np\n",
    "import pandas as pd\n",
    "import sklearn\n",
    "from sklearn.datasets import load_iris\n",
    "from sklearn.neighbors import KNeighborsClassifier\n",
    "from sklearn.model_selection import train_test_split\n",
    "import matplotlib.pyplot as plt\n",
    "from sklearn.model_selection import GridSearchCV\n",
    "from sklearn.model_selection import RandomizedSearchCV\n",
    "from scipy.stats import randint\n",
    "from sklearn.pipeline import Pipeline\n",
    "from sklearn.metrics import confusion_matrix\n",
    "#import seaborn as sns\n",
    "import sklearn\n",
    "from sklearn import metrics\n",
    "from sklearn.metrics import accuracy_score\n",
    "from sklearn.preprocessing import StandardScaler\n",
    "from sklearn.linear_model import LinearRegression\n",
    "from sklearn.utils import shuffle\n",
    "from sklearn.metrics import r2_score\n",
    "from sklearn.utils import shuffle\n",
    "from sklearn.tree import DecisionTreeClassifier \n",
    "from sklearn.feature_extraction.text import CountVectorizer\n",
    "from sklearn.feature_extraction.text import TfidfVectorizer"
   ]
  },
  {
   "cell_type": "code",
   "execution_count": 125,
   "metadata": {},
   "outputs": [],
   "source": [
    "import pickle\n",
    "import bz2"
   ]
  },
  {
   "cell_type": "code",
   "execution_count": 126,
   "metadata": {},
   "outputs": [],
   "source": [
    "infile=bz2.BZ2File(\"data_pickle_compressed\",\"rb\")\n",
    "data=pickle.load(infile)\n",
    "infile.close()"
   ]
  },
  {
   "cell_type": "code",
   "execution_count": 127,
   "metadata": {},
   "outputs": [],
   "source": [
    "y=data[\"project_is_approved\"]\n",
    "data=data.drop(columns=[\"project_is_approved\"])"
   ]
  },
  {
   "cell_type": "code",
   "execution_count": 128,
   "metadata": {},
   "outputs": [],
   "source": [
    "Xtrain,Xtest,ytrain,ytest= train_test_split(data,np.array(y).reshape(len(y),1),test_size=0.2,random_state=42,stratify=y)\n",
    "Xtrain,Xdev,ytrain,ydev= train_test_split(Xtrain,ytrain,test_size=0.2,random_state=42,stratify=ytrain)  "
   ]
  },
  {
   "cell_type": "code",
   "execution_count": 129,
   "metadata": {},
   "outputs": [],
   "source": [
    "essays=TfidfVectorizer(min_df=10)\n",
    "essays.fit(Xtrain[\"essay\"])\n",
    "essay_tfidf=pd.DataFrame(essays.transform(Xtrain[\"essay\"]).toarray(),columns=list(essays.get_feature_names()))\n"
   ]
  },
  {
   "cell_type": "code",
   "execution_count": 130,
   "metadata": {},
   "outputs": [],
   "source": [
    "dev_essay_tfidf=pd.DataFrame(essays.transform(Xdev[\"essay\"]).toarray(),columns=list(essays.get_feature_names()))"
   ]
  },
  {
   "cell_type": "code",
   "execution_count": 131,
   "metadata": {},
   "outputs": [],
   "source": [
    "test_essay_tfidf=pd.DataFrame(essays.transform(Xtest[\"essay\"]).toarray(),columns=list(essays.get_feature_names()))"
   ]
  },
  {
   "cell_type": "code",
   "execution_count": 132,
   "metadata": {},
   "outputs": [],
   "source": [
    "#state\n",
    "state = CountVectorizer(encoding='string',decode_error='ignore',lowercase=False, binary=True)\n",
    "state.fit(Xtrain[\"school_state\"])\n",
    "school_state_onehot=pd.DataFrame(state.transform(Xtrain[\"school_state\"]).toarray(),columns=list(state.get_feature_names()))\n",
    "dev_school_state_onehot=pd.DataFrame(state.transform(Xdev[\"school_state\"]).toarray(),columns=list(state.get_feature_names()))\n",
    "test_school_state_onehot=pd.DataFrame(state.transform(Xtest[\"school_state\"]).toarray(),columns=list(state.get_feature_names()))"
   ]
  },
  {
   "cell_type": "code",
   "execution_count": 133,
   "metadata": {},
   "outputs": [],
   "source": [
    "#teacher_prefix\n",
    "teacher_prefix = CountVectorizer(encoding='string',decode_error='ignore',lowercase=False, binary=True)\n",
    "teacher_prefix.fit(Xtrain[\"teacher_prefix\"])\n",
    "teacher_prefix_onehot=pd.DataFrame(teacher_prefix.transform(Xtrain[\"teacher_prefix\"]).toarray(),columns=list(teacher_prefix.get_feature_names()))\n",
    "dev_teacher_prefix_onehot=pd.DataFrame(teacher_prefix.transform(Xdev[\"teacher_prefix\"]).toarray(),columns=list(teacher_prefix.get_feature_names()))\n",
    "test_teacher_prefix_onehot=pd.DataFrame(teacher_prefix.transform(Xtest[\"teacher_prefix\"]).toarray(),columns=list(teacher_prefix.get_feature_names()))"
   ]
  },
  {
   "cell_type": "code",
   "execution_count": 134,
   "metadata": {},
   "outputs": [],
   "source": [
    "#project_grade_category\n",
    "\n",
    "project_grade_category = CountVectorizer(encoding='string',decode_error='ignore',lowercase=False, binary=True)\n",
    "project_grade_category.fit(Xtrain[\"project_grade_category\"])\n",
    "project_grade_category_onehot=pd.DataFrame(project_grade_category.transform(Xtrain[\"project_grade_category\"]).toarray(),columns=list(project_grade_category.get_feature_names()))\n",
    "dev_project_grade_category_onehot=pd.DataFrame(project_grade_category.transform(Xdev[\"project_grade_category\"]).toarray(),columns=list(project_grade_category.get_feature_names()))\n",
    "test_project_grade_category_onehot=pd.DataFrame(project_grade_category.transform(Xtest[\"project_grade_category\"]).toarray(),columns=list(project_grade_category.get_feature_names()))"
   ]
  },
  {
   "cell_type": "code",
   "execution_count": 135,
   "metadata": {},
   "outputs": [],
   "source": [
    "#clean_categories\n",
    "\n",
    "clean_categories = CountVectorizer(encoding='string',decode_error='ignore',lowercase=False, binary=True)\n",
    "clean_categories.fit(Xtrain[\"clean_categories\"])\n",
    "clean_categories_onehot=pd.DataFrame(clean_categories.transform(Xtrain[\"clean_categories\"]).toarray(),columns=list(clean_categories.get_feature_names()))\n",
    "dev_clean_categories_onehot=pd.DataFrame(clean_categories.transform(Xdev[\"clean_categories\"]).toarray(),columns=list(clean_categories.get_feature_names()))\n",
    "test_clean_categories_onehot=pd.DataFrame(clean_categories.transform(Xtest[\"clean_categories\"]).toarray(),columns=list(clean_categories.get_feature_names()))"
   ]
  },
  {
   "cell_type": "code",
   "execution_count": 136,
   "metadata": {},
   "outputs": [],
   "source": [
    "#clean_subcategories\n",
    "\n",
    "clean_subcategories = CountVectorizer(encoding='string',decode_error='ignore',lowercase=False, binary=True)\n",
    "clean_subcategories.fit(Xtrain[\"clean_subcategories\"])\n",
    "clean_subcategories_onehot=pd.DataFrame(clean_subcategories.transform(Xtrain[\"clean_subcategories\"]).toarray(),columns=list(clean_subcategories.get_feature_names()))\n",
    "dev_clean_subcategories_onehot=pd.DataFrame(clean_subcategories.transform(Xdev[\"clean_subcategories\"]).toarray(),columns=list(clean_subcategories.get_feature_names()))\n",
    "test_clean_subcategories_onehot=pd.DataFrame(clean_subcategories.transform(Xtest[\"clean_subcategories\"]).toarray(),columns=list(clean_subcategories.get_feature_names()))\n"
   ]
  },
  {
   "cell_type": "code",
   "execution_count": 137,
   "metadata": {},
   "outputs": [],
   "source": [
    "#teacher_number_of_previously_posted_projects\n",
    "num_projects=StandardScaler()\n",
    "num_projects.fit(Xtrain[\"teacher_number_of_previously_posted_projects\"].values.reshape(-1,1))\n",
    "teacher_number_of_previously_posted_projects=num_projects.transform(Xtrain[\"teacher_number_of_previously_posted_projects\"].values.reshape(-1,1))\n",
    "dev_teacher_number_of_previously_posted_projects=num_projects.transform(Xdev[\"teacher_number_of_previously_posted_projects\"].values.reshape(-1,1))\n",
    "test_teacher_number_of_previously_posted_projects=num_projects.transform(Xtest[\"teacher_number_of_previously_posted_projects\"].values.reshape(-1,1))\n",
    "teacher_number_of_previously_posted_projects=pd.DataFrame(teacher_number_of_previously_posted_projects,columns=[\"previous_projects\"])\n",
    "dev_teacher_number_of_previously_posted_projects=pd.DataFrame(dev_teacher_number_of_previously_posted_projects,columns=[\"previous_projects\"])\n",
    "test_teacher_number_of_previously_posted_projects=pd.DataFrame(test_teacher_number_of_previously_posted_projects,columns=[\"previous_projects\"])"
   ]
  },
  {
   "cell_type": "code",
   "execution_count": 138,
   "metadata": {},
   "outputs": [],
   "source": [
    "#price\n",
    "prices=StandardScaler()\n",
    "prices.fit(Xtrain[\"price\"].values.reshape(-1,1))\n",
    "price=prices.transform(Xtrain[\"price\"].values.reshape(-1,1))\n",
    "dev_price=prices.transform(Xdev[\"price\"].values.reshape(-1,1))\n",
    "test_price=prices.transform(Xtest[\"price\"].values.reshape(-1,1))\n",
    "price=pd.DataFrame(columns=[\"price\"],data=price)\n",
    "dev_price=pd.DataFrame(columns=[\"price\"],data=dev_price)\n",
    "test_price=pd.DataFrame(columns=[\"price\"],data=test_price)"
   ]
  },
  {
   "cell_type": "code",
   "execution_count": 139,
   "metadata": {},
   "outputs": [],
   "source": [
    "train_tfidf= pd.concat([school_state_onehot,teacher_prefix_onehot,project_grade_category_onehot,clean_categories_onehot,clean_subcategories_onehot,price, teacher_number_of_previously_posted_projects,essay_tfidf], axis=1)\n",
    "dev_tfidf= pd.concat([dev_school_state_onehot,dev_teacher_prefix_onehot,dev_project_grade_category_onehot,dev_clean_categories_onehot,dev_clean_subcategories_onehot,dev_price, dev_teacher_number_of_previously_posted_projects,dev_essay_tfidf], axis=1)\n",
    "test_tfidf= pd.concat([test_school_state_onehot,test_teacher_prefix_onehot,test_project_grade_category_onehot,test_clean_categories_onehot,test_clean_subcategories_onehot,test_price, test_teacher_number_of_previously_posted_projects,test_essay_tfidf], axis=1)"
   ]
  },
  {
   "cell_type": "code",
   "execution_count": null,
   "metadata": {},
   "outputs": [],
   "source": []
  },
  {
   "cell_type": "code",
   "execution_count": null,
   "metadata": {},
   "outputs": [],
   "source": []
  },
  {
   "cell_type": "code",
   "execution_count": 140,
   "metadata": {},
   "outputs": [],
   "source": [
    "test_tfidf= pd.concat([test_school_state_onehot,test_teacher_prefix_onehot,test_project_grade_category_onehot,test_clean_categories_onehot,test_clean_subcategories_onehot,test_price, test_teacher_number_of_previously_posted_projects,test_essay_tfidf], axis=1)"
   ]
  },
  {
   "cell_type": "code",
   "execution_count": 141,
   "metadata": {},
   "outputs": [],
   "source": [
    "outfile=bz2.BZ2File(\"train_tfidf_1\",\"wb\")\n",
    "pickle.dump(train_tfidf[0:len(train_tfidf)//2],outfile)\n",
    "outfile.close()\n"
   ]
  },
  {
   "cell_type": "code",
   "execution_count": 142,
   "metadata": {},
   "outputs": [],
   "source": [
    "outfile=bz2.BZ2File(\"train_tfidf_2\",\"wb\")\n",
    "pickle.dump(train_tfidf[len(train_tfidf)//2:],outfile)\n",
    "outfile.close()\n"
   ]
  },
  {
   "cell_type": "code",
   "execution_count": 143,
   "metadata": {},
   "outputs": [],
   "source": [
    "outfile=bz2.BZ2File(\"dev_tfidf\",\"wb\")\n",
    "pickle.dump(dev_tfidf,outfile)\n",
    "outfile.close()\n"
   ]
  },
  {
   "cell_type": "code",
   "execution_count": 144,
   "metadata": {},
   "outputs": [],
   "source": [
    "outfile=bz2.BZ2File(\"test_tfidf\",\"wb\")\n",
    "pickle.dump(test_tfidf,outfile)\n",
    "outfile.close()\n"
   ]
  },
  {
   "cell_type": "code",
   "execution_count": 145,
   "metadata": {},
   "outputs": [],
   "source": [
    "outfile=bz2.BZ2File(\"ytrain\",\"wb\")\n",
    "pickle.dump(ytrain,outfile)\n",
    "outfile.close()\n"
   ]
  },
  {
   "cell_type": "code",
   "execution_count": 146,
   "metadata": {},
   "outputs": [],
   "source": [
    "outfile=bz2.BZ2File(\"ydev\",\"wb\")\n",
    "pickle.dump(ydev,outfile)\n",
    "outfile.close()\n"
   ]
  },
  {
   "cell_type": "code",
   "execution_count": 147,
   "metadata": {},
   "outputs": [],
   "source": [
    "outfile=bz2.BZ2File(\"ytest\",\"wb\")\n",
    "pickle.dump(ytest,outfile)\n",
    "outfile.close()\n"
   ]
  },
  {
   "cell_type": "code",
   "execution_count": 148,
   "metadata": {},
   "outputs": [],
   "source": [
    "outfile=bz2.BZ2File(\"Xtest\",\"wb\")\n",
    "pickle.dump(Xtest,outfile)\n",
    "outfile.close()\n"
   ]
  },
  {
   "cell_type": "code",
   "execution_count": 149,
   "metadata": {},
   "outputs": [],
   "source": [
    "with open('glove_vectors', 'rb') as f:\n",
    "    model = pickle.load(f)\n",
    "    glove_words =  set(model.keys())"
   ]
  },
  {
   "cell_type": "code",
   "execution_count": 150,
   "metadata": {},
   "outputs": [],
   "source": [
    "from sklearn.feature_extraction.text import TfidfVectorizer\n",
    "from sklearn.feature_extraction.text import CountVectorizer\n"
   ]
  },
  {
   "cell_type": "code",
   "execution_count": 151,
   "metadata": {},
   "outputs": [
    {
     "data": {
      "text/plain": [
       "TfidfVectorizer(analyzer='word', binary=False, decode_error='strict',\n",
       "                dtype=<class 'numpy.float64'>, encoding='utf-8',\n",
       "                input='content', lowercase=True, max_df=1.0, max_features=None,\n",
       "                min_df=1, ngram_range=(1, 1), norm='l2', preprocessor=None,\n",
       "                smooth_idf=True, stop_words=None, strip_accents=None,\n",
       "                sublinear_tf=False, token_pattern='(?u)\\\\b\\\\w\\\\w+\\\\b',\n",
       "                tokenizer=None, use_idf=True, vocabulary=None)"
      ]
     },
     "execution_count": 151,
     "metadata": {},
     "output_type": "execute_result"
    }
   ],
   "source": [
    "tfidf_model=TfidfVectorizer()\n",
    "tfidf_model.fit(data[\"essay\"].values)"
   ]
  },
  {
   "cell_type": "code",
   "execution_count": 152,
   "metadata": {},
   "outputs": [],
   "source": [
    "dict_idf=dict(zip(tfidf_model.get_feature_names(),tfidf_model.idf_))\n",
    "tfidf_words = set(tfidf_model.get_feature_names())"
   ]
  },
  {
   "cell_type": "code",
   "execution_count": 153,
   "metadata": {},
   "outputs": [],
   "source": [
    "\n",
    "tfidfw2v_train=[]\n",
    "for para in Xtrain[\"essay\"].values:\n",
    "    vector = np.zeros(300)\n",
    "    tf_idf_weight=0\n",
    "    for word in para.split():\n",
    "        if (word in glove_words) and (word in tfidf_words):\n",
    "            vec=model[word]\n",
    "            tf_idf=dict_idf[word]*(para.count(word)/len(para.split()))\n",
    "            vector=vector+(vec*tf_idf)\n",
    "            tf_idf_weight=tf_idf_weight+tf_idf\n",
    "    if tf_idf_weight!=0:\n",
    "        vector=vector/tf_idf_weight\n",
    "    tfidfw2v_train.append(vector)\n",
    "    \n",
    "            \n",
    "        "
   ]
  },
  {
   "cell_type": "code",
   "execution_count": 154,
   "metadata": {},
   "outputs": [],
   "source": [
    "tfidfw2v_test=[]\n",
    "for para in Xtest[\"essay\"].values:\n",
    "    vector = np.zeros(300)\n",
    "    tf_idf_weight=0\n",
    "    for word in para.split():\n",
    "        if (word in glove_words) and (word in tfidf_words):\n",
    "            vec=model[word]\n",
    "            tf_idf=dict_idf[word]*(para.count(word)/len(para.split()))\n",
    "            vector=vector+(vec*tf_idf)\n",
    "            tf_idf_weight=tf_idf_weight+tf_idf\n",
    "    if tf_idf_weight!=0:\n",
    "        vector=vector/tf_idf_weight\n",
    "    tfidfw2v_test.append(vector)\n",
    "    \n",
    "            \n",
    "        "
   ]
  },
  {
   "cell_type": "code",
   "execution_count": 155,
   "metadata": {},
   "outputs": [],
   "source": [
    "tfidfw2v_dev=[]\n",
    "for para in Xdev[\"essay\"].values:\n",
    "    vector = np.zeros(300)\n",
    "    tf_idf_weight=0\n",
    "    for word in para.split():\n",
    "        if (word in glove_words) and (word in tfidf_words):\n",
    "            vec=model[word]\n",
    "            tf_idf=dict_idf[word]*(para.count(word)/len(para.split()))\n",
    "            vector=vector+(vec*tf_idf)\n",
    "            tf_idf_weight=tf_idf_weight+tf_idf\n",
    "    if tf_idf_weight!=0:\n",
    "        vector=vector/tf_idf_weight\n",
    "    tfidfw2v_dev.append(vector)\n",
    "    \n",
    "            \n",
    "        "
   ]
  },
  {
   "cell_type": "code",
   "execution_count": 156,
   "metadata": {},
   "outputs": [],
   "source": [
    "tfidfw2v_train=pd.DataFrame(np.array(tfidfw2v_train))\n",
    "tfidfw2v_test=pd.DataFrame(np.array(tfidfw2v_test))\n",
    "tfidfw2v_dev=pd.DataFrame(np.array(tfidfw2v_dev))"
   ]
  },
  {
   "cell_type": "code",
   "execution_count": 157,
   "metadata": {},
   "outputs": [],
   "source": [
    "train_tfidfw2v= pd.concat([school_state_onehot,teacher_prefix_onehot,project_grade_category_onehot,clean_categories_onehot,clean_subcategories_onehot,price, teacher_number_of_previously_posted_projects,tfidfw2v_train], axis=1)\n",
    "dev_tfidfw2v= pd.concat([dev_school_state_onehot,dev_teacher_prefix_onehot,dev_project_grade_category_onehot,dev_clean_categories_onehot,dev_clean_subcategories_onehot,dev_price, dev_teacher_number_of_previously_posted_projects,tfidfw2v_dev], axis=1)\n",
    "test_tfidfw2v= pd.concat([test_school_state_onehot,test_teacher_prefix_onehot,test_project_grade_category_onehot,test_clean_categories_onehot,test_clean_subcategories_onehot,test_price, test_teacher_number_of_previously_posted_projects,tfidfw2v_test], axis=1)"
   ]
  },
  {
   "cell_type": "code",
   "execution_count": 167,
   "metadata": {},
   "outputs": [],
   "source": [
    "outfile=bz2.BZ2File(\"train_tfidfw2v\",\"wb\")\n",
    "pickle.dump(train_tfidfw2v,outfile)\n",
    "outfile.close()"
   ]
  },
  {
   "cell_type": "code",
   "execution_count": 168,
   "metadata": {},
   "outputs": [],
   "source": [
    "outfile=bz2.BZ2File(\"dev_tfidfw2v\",\"wb\")\n",
    "pickle.dump(dev_tfidfw2v,outfile)\n",
    "outfile.close()"
   ]
  },
  {
   "cell_type": "code",
   "execution_count": 169,
   "metadata": {},
   "outputs": [],
   "source": [
    "outfile=bz2.BZ2File(\"test_tfidfw2v\",\"wb\")\n",
    "pickle.dump(test_tfidfw2v,outfile)\n",
    "outfile.close()"
   ]
  },
  {
   "cell_type": "code",
   "execution_count": 170,
   "metadata": {},
   "outputs": [
    {
     "data": {
      "text/plain": [
       "(17480, 401)"
      ]
     },
     "execution_count": 170,
     "metadata": {},
     "output_type": "execute_result"
    }
   ],
   "source": [
    "dev_tfidfw2v.shape"
   ]
  },
  {
   "cell_type": "code",
   "execution_count": 162,
   "metadata": {},
   "outputs": [
    {
     "data": {
      "text/plain": [
       "(69918, 300)"
      ]
     },
     "execution_count": 162,
     "metadata": {},
     "output_type": "execute_result"
    }
   ],
   "source": [
    "tfidfw2v_train.shape"
   ]
  },
  {
   "cell_type": "code",
   "execution_count": 163,
   "metadata": {},
   "outputs": [
    {
     "data": {
      "text/plain": [
       "(69918, 14041)"
      ]
     },
     "execution_count": 163,
     "metadata": {},
     "output_type": "execute_result"
    }
   ],
   "source": [
    "train_tfidf.shape"
   ]
  },
  {
   "cell_type": "code",
   "execution_count": null,
   "metadata": {},
   "outputs": [],
   "source": []
  }
 ],
 "metadata": {
  "kernelspec": {
   "display_name": "Python 3.7 (Intel® oneAPI)",
   "language": "python",
   "name": "c009-intel_distribution_of_python_3_oneapi-beta05-python"
  },
  "language_info": {
   "codemirror_mode": {
    "name": "ipython",
    "version": 3
   },
   "file_extension": ".py",
   "mimetype": "text/x-python",
   "name": "python",
   "nbconvert_exporter": "python",
   "pygments_lexer": "ipython3",
   "version": "3.7.7"
  }
 },
 "nbformat": 4,
 "nbformat_minor": 4
}
